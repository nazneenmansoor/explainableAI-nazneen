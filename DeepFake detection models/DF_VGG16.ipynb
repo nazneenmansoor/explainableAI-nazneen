{
 "cells": [
  {
   "cell_type": "markdown",
   "metadata": {},
   "source": [
    "# VGG16 - DeepFake Detection"
   ]
  },
  {
   "cell_type": "code",
   "execution_count": 1,
   "metadata": {},
   "outputs": [],
   "source": [
    "# Imports here\n",
    "import numpy as np\n",
    "import pandas as pd\n",
    "import matplotlib.pyplot as plt\n",
    "import seaborn as sb\n",
    "import cv2\n",
    "import torch\n",
    "import torch.nn.functional as F\n",
    "\n",
    "from torch import nn\n",
    "from torch import optim\n",
    "from tqdm import tqdm \n",
    "from torchvision import datasets, transforms, models\n",
    "from sklearn.metrics import confusion_matrix"
   ]
  },
  {
   "cell_type": "markdown",
   "metadata": {},
   "source": [
    "# DeepFake detection dataset"
   ]
  },
  {
   "cell_type": "code",
   "execution_count": 3,
   "metadata": {},
   "outputs": [],
   "source": [
    "#training, validation, and test data\n",
    "\n",
    "train_dir = r\"E:\\BigdataandAI\\sem2\\AI2 Project work\\data for experiments\\split_dataset\\train\"\n",
    "valid_dir = r\"E:\\BigdataandAI\\sem2\\AI2 Project work\\data for experiments\\split_dataset\\val\"\n",
    "test_dir = r\"E:\\BigdataandAI\\sem2\\AI2 Project work\\data for experiments\\split_dataset\\test\""
   ]
  },
  {
   "cell_type": "code",
   "execution_count": 4,
   "metadata": {},
   "outputs": [],
   "source": [
    "# Define transforms for the training, validation, and testing sets\n",
    "training_transforms = transforms.Compose([transforms.RandomRotation(30),\n",
    "                                          transforms.RandomResizedCrop(224),\n",
    "                                          transforms.RandomHorizontalFlip(),\n",
    "                                          transforms.ToTensor(),\n",
    "                                          transforms.Normalize([0.485, 0.456, 0.406], \n",
    "                                                               [0.229, 0.224, 0.225])])\n",
    "\n",
    "validation_transforms = transforms.Compose([transforms.Resize(256),\n",
    "                                            transforms.CenterCrop(224),\n",
    "                                            transforms.ToTensor(),\n",
    "                                            transforms.Normalize([0.485, 0.456, 0.406], \n",
    "                                                                 [0.229, 0.224, 0.225])])\n",
    "\n",
    "testing_transforms = transforms.Compose([transforms.Resize(256),\n",
    "                                         transforms.CenterCrop(224),\n",
    "                                         transforms.ToTensor(),\n",
    "                                         transforms.Normalize([0.485, 0.456, 0.406], \n",
    "                                                              [0.229, 0.224, 0.225])])\n",
    "\n",
    "# TODO: Load the datasets with ImageFolder\n",
    "training_dataset = datasets.ImageFolder(train_dir, transform=training_transforms)\n",
    "validation_dataset = datasets.ImageFolder(valid_dir, transform=validation_transforms)\n",
    "testing_dataset = datasets.ImageFolder(test_dir, transform=testing_transforms)\n",
    "\n",
    "# TODO: Using the image datasets and the trainforms, define the dataloaders\n",
    "train_loader = torch.utils.data.DataLoader(training_dataset, batch_size=16, shuffle=True)\n",
    "validate_loader = torch.utils.data.DataLoader(validation_dataset, batch_size=16)\n",
    "test_loader = torch.utils.data.DataLoader(testing_dataset, batch_size=32)"
   ]
  },
  {
   "cell_type": "markdown",
   "metadata": {},
   "source": [
    "# Design & architecture"
   ]
  },
  {
   "cell_type": "code",
   "execution_count": 5,
   "metadata": {},
   "outputs": [
    {
     "name": "stderr",
     "output_type": "stream",
     "text": [
      "C:\\ProgramData\\Anaconda3\\lib\\site-packages\\torchvision\\models\\_utils.py:208: UserWarning: The parameter 'pretrained' is deprecated since 0.13 and may be removed in the future, please use 'weights' instead.\n",
      "  warnings.warn(\n",
      "C:\\ProgramData\\Anaconda3\\lib\\site-packages\\torchvision\\models\\_utils.py:223: UserWarning: Arguments other than a weight enum or `None` for 'weights' are deprecated since 0.13 and may be removed in the future. The current behavior is equivalent to passing `weights=VGG16_Weights.IMAGENET1K_V1`. You can also use `weights=VGG16_Weights.DEFAULT` to get the most up-to-date weights.\n",
      "  warnings.warn(msg)\n"
     ]
    }
   ],
   "source": [
    "# Load pretrained VGG-16 Model\n",
    "\n",
    "model = models.vgg16(pretrained=True)"
   ]
  },
  {
   "cell_type": "code",
   "execution_count": 6,
   "metadata": {},
   "outputs": [],
   "source": [
    "# Freeze pretrained model parameters to avoid backpropogating through them\n",
    "for parameter in model.parameters():\n",
    "    parameter.requires_grad = False\n",
    "\n",
    "\n",
    "from collections import OrderedDict\n",
    "\n",
    "# Build custom classifier\n",
    "\n",
    "classifier = nn.Sequential(OrderedDict([('fc1', nn.Linear(25088, 4096)),\n",
    "                                        ('relu', nn.ReLU()),\n",
    "                                        ('drop', nn.Dropout(p=0.5)),\n",
    "                                        ('fc2', nn.Linear(4096, 2)),\n",
    "                                        ('output', nn.Sigmoid())]))\n",
    "\n",
    "model.classifier = classifier"
   ]
  },
  {
   "cell_type": "markdown",
   "metadata": {},
   "source": [
    "# Define loss function with Adam optimizer"
   ]
  },
  {
   "cell_type": "code",
   "execution_count": 7,
   "metadata": {},
   "outputs": [],
   "source": [
    "# Loss function and gradient descent\n",
    "\n",
    "loss_fn = nn.CrossEntropyLoss()\n",
    "\n",
    "optimizer = optim.Adam(model.parameters(), lr=0.0001)"
   ]
  },
  {
   "cell_type": "markdown",
   "metadata": {},
   "source": [
    "# Model training"
   ]
  },
  {
   "cell_type": "code",
   "execution_count": 8,
   "metadata": {},
   "outputs": [],
   "source": [
    "# Define training accuracy & loss \n",
    "\n",
    "train_accu = []\n",
    "train_losses = []\n",
    "\n",
    "# Function for defining the train\n",
    "def train(epoch):\n",
    "    \n",
    "    print('\\nEpoch : %d'%epoch)\n",
    "    model.train()\n",
    " \n",
    "    running_loss=0\n",
    "    correct=0\n",
    "    total=0\n",
    "    CM=0\n",
    " \n",
    "    for data in tqdm(train_loader):\n",
    "\n",
    "        inputs,labels=data[0],data[1]\n",
    "     \n",
    "        optimizer.zero_grad()\n",
    "        outputs=model(inputs)\n",
    "        loss=loss_fn(outputs,labels)\n",
    "        loss.backward()\n",
    "        optimizer.step()\n",
    " \n",
    "        running_loss += loss.item()\n",
    "     \n",
    "        _, predicted = outputs.max(1)\n",
    "        total += labels.size(0)\n",
    "        correct += predicted.eq(labels).sum().item()\n",
    "        CM+=confusion_matrix(labels, predicted,labels=[0,1])\n",
    "      \n",
    "        tn=int(CM[0][0])\n",
    "        tp=int(CM[1][1])\n",
    "        fp=int(CM[0][1])\n",
    "        fn=int(CM[1][0])\n",
    "    train_loss=running_loss/len(train_loader)\n",
    "    accu=100.*correct/total\n",
    "    sensitivity=tp/(tp+fn)\n",
    "    precision=tp/(tp+fp)\n",
    "   \n",
    "    train_accu.append(accu)\n",
    "    train_losses.append(train_loss)\n",
    "    \n",
    "    # Print performance metric values\n",
    "    print('Train Loss: %.3f | Accuracy: %.3f'%(train_loss,accu))\n",
    "    print('- Sensitivity : ',(tp/(tp+fn))*100)\n",
    "    print('- Specificity : ',(tn/(tn+fp))*100)\n",
    "    print('- Precision: ',(tp/(tp+fp))*100)\n",
    "    "
   ]
  },
  {
   "cell_type": "code",
   "execution_count": 9,
   "metadata": {},
   "outputs": [],
   "source": [
    "# Define validation accuracy & loss\n",
    "\n",
    "eval_losses=[]\n",
    "eval_accu=[]\n",
    " \n",
    "# Function for defining the validation\n",
    "def validation(epoch):\n",
    "    \n",
    "    model.eval()\n",
    " \n",
    "    running_loss=0\n",
    "    correct=0\n",
    "    total=0\n",
    "    CM=0\n",
    " \n",
    "    with torch.no_grad():\n",
    "        for data in tqdm(validate_loader):\n",
    "            \n",
    "            images,labels=data[0],data[1]\n",
    "            outputs=model(images)\n",
    " \n",
    "            loss= loss_fn(outputs,labels)\n",
    "            running_loss+=loss.item()\n",
    "       \n",
    "            _, predicted = outputs.max(1)\n",
    "            total += labels.size(0)\n",
    "            correct += predicted.eq(labels).sum().item()\n",
    "            CM+=confusion_matrix(labels, predicted, labels=[0,1])\n",
    "   \n",
    "        tn=int(CM[0][0])\n",
    "        tp=int(CM[1][1])\n",
    "        fp=int(CM[0][1])\n",
    "        fn=int(CM[1][0])\n",
    "    validate_loss=running_loss/len(validate_loader)\n",
    "    accu=100.*correct/total\n",
    "    sensitivity=tp/(tp+fn)\n",
    "    precision=tp/(tp+fp)\n",
    " \n",
    "    eval_losses.append(validate_loss)\n",
    "    eval_accu.append(accu)\n",
    " \n",
    "    # Print performance metric values\n",
    "    print('Validate Loss: %.3f | Accuracy: %.3f'%(validate_loss,accu))\n",
    "    print('- Sensitivity : ',(tp/(tp+fn))*100)\n",
    "    print('- Specificity : ',(tn/(tn+fp))*100)\n",
    "    print('- Precision: ',(tp/(tp+fp))*100)\n",
    "  "
   ]
  },
  {
   "cell_type": "code",
   "execution_count": 10,
   "metadata": {
    "scrolled": false
   },
   "outputs": [
    {
     "name": "stderr",
     "output_type": "stream",
     "text": [
      "\r",
      "  0%|                                                                                          | 0/973 [00:00<?, ?it/s]"
     ]
    },
    {
     "name": "stdout",
     "output_type": "stream",
     "text": [
      "\n",
      "Epoch : 1\n"
     ]
    },
    {
     "name": "stderr",
     "output_type": "stream",
     "text": [
      "100%|██████████████████████████████████████████████████████████████████████████████| 973/973 [2:14:42<00:00,  8.31s/it]\n"
     ]
    },
    {
     "name": "stdout",
     "output_type": "stream",
     "text": [
      "Train Loss: 0.519 | Accuracy: 78.137\n",
      "- Sensitivity :  85.33724340175954\n",
      "- Specificity :  67.70997168921045\n",
      "- Precision:  79.28355196770939\n"
     ]
    },
    {
     "name": "stderr",
     "output_type": "stream",
     "text": [
      "100%|████████████████████████████████████████████████████████████████████████████████| 122/122 [10:02<00:00,  4.94s/it]\n",
      "  0%|                                                                                          | 0/973 [00:00<?, ?it/s]"
     ]
    },
    {
     "name": "stdout",
     "output_type": "stream",
     "text": [
      "Validate Loss: 0.445 | Accuracy: 86.471\n",
      "- Sensitivity :  83.1304347826087\n",
      "- Specificity :  91.30982367758187\n",
      "- Precision:  93.26829268292684\n",
      "\n",
      "Epoch : 2\n"
     ]
    },
    {
     "name": "stderr",
     "output_type": "stream",
     "text": [
      "100%|██████████████████████████████████████████████████████████████████████████████| 973/973 [2:16:44<00:00,  8.43s/it]\n"
     ]
    },
    {
     "name": "stdout",
     "output_type": "stream",
     "text": [
      "Train Loss: 0.487 | Accuracy: 81.542\n",
      "- Sensitivity :  87.27055501249049\n",
      "- Specificity :  73.24630386914124\n",
      "- Precision:  82.52875924404273\n"
     ]
    },
    {
     "name": "stderr",
     "output_type": "stream",
     "text": [
      "100%|████████████████████████████████████████████████████████████████████████████████| 122/122 [13:19<00:00,  6.55s/it]\n"
     ]
    },
    {
     "name": "stdout",
     "output_type": "stream",
     "text": [
      "Validate Loss: 0.411 | Accuracy: 89.918\n",
      "- Sensitivity :  94.43478260869566\n",
      "- Specificity :  83.37531486146096\n",
      "- Precision:  89.16256157635468\n",
      "\n",
      "Epoch : 3\n"
     ]
    },
    {
     "name": "stderr",
     "output_type": "stream",
     "text": [
      "100%|██████████████████████████████████████████████████████████████████████████████| 973/973 [2:28:09<00:00,  9.14s/it]\n"
     ]
    },
    {
     "name": "stdout",
     "output_type": "stream",
     "text": [
      "Train Loss: 0.480 | Accuracy: 82.506\n",
      "- Sensitivity :  87.90051048115565\n",
      "- Specificity :  74.69329977980496\n",
      "- Precision:  83.4157905586477\n"
     ]
    },
    {
     "name": "stderr",
     "output_type": "stream",
     "text": [
      "100%|████████████████████████████████████████████████████████████████████████████████| 122/122 [13:29<00:00,  6.64s/it]\n",
      "  0%|                                                                                          | 0/973 [00:00<?, ?it/s]"
     ]
    },
    {
     "name": "stdout",
     "output_type": "stream",
     "text": [
      "Validate Loss: 0.406 | Accuracy: 90.175\n",
      "- Sensitivity :  90.43478260869566\n",
      "- Specificity :  89.7984886649874\n",
      "- Precision:  92.7743086529884\n",
      "\n",
      "Epoch : 4\n"
     ]
    },
    {
     "name": "stderr",
     "output_type": "stream",
     "text": [
      "100%|██████████████████████████████████████████████████████████████████████████████| 973/973 [2:28:29<00:00,  9.16s/it]\n"
     ]
    },
    {
     "name": "stdout",
     "output_type": "stream",
     "text": [
      "Train Loss: 0.471 | Accuracy: 83.611\n",
      "- Sensitivity :  87.67242315629412\n",
      "- Specificity :  77.72884554891475\n",
      "- Precision:  85.07588532883642\n"
     ]
    },
    {
     "name": "stderr",
     "output_type": "stream",
     "text": [
      "100%|████████████████████████████████████████████████████████████████████████████████| 122/122 [13:36<00:00,  6.69s/it]\n",
      "  0%|                                                                                          | 0/973 [00:00<?, ?it/s]"
     ]
    },
    {
     "name": "stdout",
     "output_type": "stream",
     "text": [
      "Validate Loss: 0.403 | Accuracy: 90.586\n",
      "- Sensitivity :  92.34782608695652\n",
      "- Specificity :  88.0352644836272\n",
      "- Precision:  91.78910976663785\n",
      "\n",
      "Epoch : 5\n"
     ]
    },
    {
     "name": "stderr",
     "output_type": "stream",
     "text": [
      "100%|██████████████████████████████████████████████████████████████████████████████| 973/973 [2:29:13<00:00,  9.20s/it]\n"
     ]
    },
    {
     "name": "stdout",
     "output_type": "stream",
     "text": [
      "Train Loss: 0.469 | Accuracy: 83.797\n",
      "- Sensitivity :  88.23721081785598\n",
      "- Specificity :  77.36709657124882\n",
      "- Precision:  84.95242078845551\n"
     ]
    },
    {
     "name": "stderr",
     "output_type": "stream",
     "text": [
      "100%|████████████████████████████████████████████████████████████████████████████████| 122/122 [13:36<00:00,  6.69s/it]\n"
     ]
    },
    {
     "name": "stdout",
     "output_type": "stream",
     "text": [
      "Validate Loss: 0.406 | Accuracy: 90.278\n",
      "- Sensitivity :  95.04347826086956\n",
      "- Specificity :  83.37531486146096\n",
      "- Precision:  89.22448979591837\n",
      "\n",
      "Epoch : 6\n"
     ]
    },
    {
     "name": "stderr",
     "output_type": "stream",
     "text": [
      "100%|██████████████████████████████████████████████████████████████████████████████| 973/973 [2:31:31<00:00,  9.34s/it]\n"
     ]
    },
    {
     "name": "stdout",
     "output_type": "stream",
     "text": [
      "Train Loss: 0.468 | Accuracy: 83.810\n",
      "- Sensitivity :  88.28065602259151\n",
      "- Specificity :  77.33564013840831\n",
      "- Precision:  84.94095516772913\n"
     ]
    },
    {
     "name": "stderr",
     "output_type": "stream",
     "text": [
      "100%|████████████████████████████████████████████████████████████████████████████████| 122/122 [13:25<00:00,  6.60s/it]\n"
     ]
    },
    {
     "name": "stdout",
     "output_type": "stream",
     "text": [
      "Validate Loss: 0.440 | Accuracy: 86.986\n",
      "- Sensitivity :  81.56521739130434\n",
      "- Specificity :  94.83627204030228\n",
      "- Precision:  95.81205311542391\n",
      "\n",
      "Epoch : 7\n"
     ]
    },
    {
     "name": "stderr",
     "output_type": "stream",
     "text": [
      "100%|██████████████████████████████████████████████████████████████████████████████| 973/973 [2:30:06<00:00,  9.26s/it]\n"
     ]
    },
    {
     "name": "stdout",
     "output_type": "stream",
     "text": [
      "Train Loss: 0.461 | Accuracy: 84.510\n",
      "- Sensitivity :  88.79113717823395\n",
      "- Specificity :  78.3107895564643\n",
      "- Precision:  85.56625497173958\n"
     ]
    },
    {
     "name": "stderr",
     "output_type": "stream",
     "text": [
      "100%|████████████████████████████████████████████████████████████████████████████████| 122/122 [13:32<00:00,  6.66s/it]\n",
      "  0%|                                                                                          | 0/973 [00:00<?, ?it/s]"
     ]
    },
    {
     "name": "stdout",
     "output_type": "stream",
     "text": [
      "Validate Loss: 0.418 | Accuracy: 89.403\n",
      "- Sensitivity :  86.78260869565217\n",
      "- Specificity :  93.19899244332494\n",
      "- Precision:  94.86692015209125\n",
      "\n",
      "Epoch : 8\n"
     ]
    },
    {
     "name": "stderr",
     "output_type": "stream",
     "text": [
      "100%|██████████████████████████████████████████████████████████████████████████████| 973/973 [2:31:32<00:00,  9.35s/it]\n"
     ]
    },
    {
     "name": "stdout",
     "output_type": "stream",
     "text": [
      "Train Loss: 0.456 | Accuracy: 85.108\n",
      "- Sensitivity :  89.75779298359944\n",
      "- Specificity :  78.37370242214533\n",
      "- Precision:  85.7350347546426\n"
     ]
    },
    {
     "name": "stderr",
     "output_type": "stream",
     "text": [
      "100%|████████████████████████████████████████████████████████████████████████████████| 122/122 [10:48<00:00,  5.31s/it]\n",
      "  0%|                                                                                          | 0/973 [00:00<?, ?it/s]"
     ]
    },
    {
     "name": "stdout",
     "output_type": "stream",
     "text": [
      "Validate Loss: 0.418 | Accuracy: 88.940\n",
      "- Sensitivity :  85.47826086956522\n",
      "- Specificity :  93.95465994962217\n",
      "- Precision:  95.3443258971872\n",
      "\n",
      "Epoch : 9\n"
     ]
    },
    {
     "name": "stderr",
     "output_type": "stream",
     "text": [
      "100%|██████████████████████████████████████████████████████████████████████████████| 973/973 [1:53:28<00:00,  7.00s/it]\n",
      "  0%|                                                                                          | 0/122 [00:00<?, ?it/s]"
     ]
    },
    {
     "name": "stdout",
     "output_type": "stream",
     "text": [
      "Train Loss: 0.456 | Accuracy: 85.114\n",
      "- Sensitivity :  90.34430324752906\n",
      "- Specificity :  77.54010695187165\n",
      "- Precision:  85.34783500923456\n"
     ]
    },
    {
     "name": "stderr",
     "output_type": "stream",
     "text": [
      "100%|████████████████████████████████████████████████████████████████████████████████| 122/122 [10:21<00:00,  5.09s/it]\n",
      "  0%|                                                                                          | 0/973 [00:00<?, ?it/s]"
     ]
    },
    {
     "name": "stdout",
     "output_type": "stream",
     "text": [
      "Validate Loss: 0.401 | Accuracy: 90.895\n",
      "- Sensitivity :  95.3913043478261\n",
      "- Specificity :  84.38287153652394\n",
      "- Precision:  89.84438984438985\n",
      "\n",
      "Epoch : 10\n"
     ]
    },
    {
     "name": "stderr",
     "output_type": "stream",
     "text": [
      "100%|██████████████████████████████████████████████████████████████████████████████| 973/973 [1:53:21<00:00,  6.99s/it]\n",
      "  0%|                                                                                          | 0/122 [00:00<?, ?it/s]"
     ]
    },
    {
     "name": "stdout",
     "output_type": "stream",
     "text": [
      "Train Loss: 0.456 | Accuracy: 84.966\n",
      "- Sensitivity :  88.62821766047573\n",
      "- Specificity :  79.66341616860649\n",
      "- Precision:  86.32180260234847\n"
     ]
    },
    {
     "name": "stderr",
     "output_type": "stream",
     "text": [
      "100%|████████████████████████████████████████████████████████████████████████████████| 122/122 [10:06<00:00,  4.97s/it]\n",
      "  0%|                                                                                          | 0/973 [00:00<?, ?it/s]"
     ]
    },
    {
     "name": "stdout",
     "output_type": "stream",
     "text": [
      "Validate Loss: 0.400 | Accuracy: 90.998\n",
      "- Sensitivity :  90.26086956521739\n",
      "- Specificity :  92.06549118387909\n",
      "- Precision:  94.27792915531336\n",
      "\n",
      "Epoch : 11\n"
     ]
    },
    {
     "name": "stderr",
     "output_type": "stream",
     "text": [
      "100%|██████████████████████████████████████████████████████████████████████████████| 973/973 [1:53:02<00:00,  6.97s/it]\n",
      "  0%|                                                                                          | 0/122 [00:00<?, ?it/s]"
     ]
    },
    {
     "name": "stdout",
     "output_type": "stream",
     "text": [
      "Train Loss: 0.448 | Accuracy: 85.904\n",
      "- Sensitivity :  88.8237210817856\n",
      "- Specificity :  81.6766278703995\n",
      "- Precision:  87.53077170073851\n"
     ]
    },
    {
     "name": "stderr",
     "output_type": "stream",
     "text": [
      "100%|████████████████████████████████████████████████████████████████████████████████| 122/122 [10:06<00:00,  4.97s/it]\n",
      "  0%|                                                                                          | 0/973 [00:00<?, ?it/s]"
     ]
    },
    {
     "name": "stdout",
     "output_type": "stream",
     "text": [
      "Validate Loss: 0.392 | Accuracy: 92.027\n",
      "- Sensitivity :  95.56521739130434\n",
      "- Specificity :  86.90176322418137\n",
      "- Precision:  91.35494596841231\n",
      "\n",
      "Epoch : 12\n"
     ]
    },
    {
     "name": "stderr",
     "output_type": "stream",
     "text": [
      "100%|██████████████████████████████████████████████████████████████████████████████| 973/973 [1:53:09<00:00,  6.98s/it]\n",
      "  0%|                                                                                          | 0/122 [00:00<?, ?it/s]"
     ]
    },
    {
     "name": "stdout",
     "output_type": "stream",
     "text": [
      "Train Loss: 0.451 | Accuracy: 85.718\n",
      "- Sensitivity :  90.04018681438036\n",
      "- Specificity :  79.45894935514313\n",
      "- Precision:  86.39016256773657\n"
     ]
    },
    {
     "name": "stderr",
     "output_type": "stream",
     "text": [
      "100%|████████████████████████████████████████████████████████████████████████████████| 122/122 [10:08<00:00,  4.99s/it]\n",
      "  0%|                                                                                          | 0/973 [00:00<?, ?it/s]"
     ]
    },
    {
     "name": "stdout",
     "output_type": "stream",
     "text": [
      "Validate Loss: 0.413 | Accuracy: 89.506\n",
      "- Sensitivity :  85.73913043478261\n",
      "- Specificity :  94.96221662468514\n",
      "- Precision:  96.10136452241716\n",
      "\n",
      "Epoch : 13\n"
     ]
    },
    {
     "name": "stderr",
     "output_type": "stream",
     "text": [
      "100%|██████████████████████████████████████████████████████████████████████████████| 973/973 [1:53:04<00:00,  6.97s/it]\n",
      "  0%|                                                                                          | 0/122 [00:00<?, ?it/s]"
     ]
    },
    {
     "name": "stdout",
     "output_type": "stream",
     "text": [
      "Train Loss: 0.451 | Accuracy: 85.866\n",
      "- Sensitivity :  89.8989898989899\n",
      "- Specificity :  80.02516514627241\n",
      "- Precision:  86.6973918508432\n"
     ]
    },
    {
     "name": "stderr",
     "output_type": "stream",
     "text": [
      "100%|████████████████████████████████████████████████████████████████████████████████| 122/122 [10:08<00:00,  4.99s/it]\n",
      "  0%|                                                                                          | 0/973 [00:00<?, ?it/s]"
     ]
    },
    {
     "name": "stdout",
     "output_type": "stream",
     "text": [
      "Validate Loss: 0.433 | Accuracy: 87.551\n",
      "- Sensitivity :  98.52173913043478\n",
      "- Specificity :  71.66246851385391\n",
      "- Precision:  83.43151693667158\n",
      "\n",
      "Epoch : 14\n"
     ]
    },
    {
     "name": "stderr",
     "output_type": "stream",
     "text": [
      "100%|██████████████████████████████████████████████████████████████████████████████| 973/973 [1:44:23<00:00,  6.44s/it]\n",
      "  0%|                                                                                          | 0/122 [00:00<?, ?it/s]"
     ]
    },
    {
     "name": "stdout",
     "output_type": "stream",
     "text": [
      "Train Loss: 0.451 | Accuracy: 85.544\n",
      "- Sensitivity :  89.76865428478332\n",
      "- Specificity :  79.4274929223026\n",
      "- Precision:  86.3365716076465\n"
     ]
    },
    {
     "name": "stderr",
     "output_type": "stream",
     "text": [
      "100%|████████████████████████████████████████████████████████████████████████████████| 122/122 [06:10<00:00,  3.04s/it]\n",
      "  0%|                                                                                          | 0/973 [00:00<?, ?it/s]"
     ]
    },
    {
     "name": "stdout",
     "output_type": "stream",
     "text": [
      "Validate Loss: 0.391 | Accuracy: 92.233\n",
      "- Sensitivity :  96.69565217391303\n",
      "- Specificity :  85.76826196473552\n",
      "- Precision:  90.77551020408163\n",
      "\n",
      "Epoch : 15\n"
     ]
    },
    {
     "name": "stderr",
     "output_type": "stream",
     "text": [
      "100%|██████████████████████████████████████████████████████████████████████████████| 973/973 [1:11:38<00:00,  4.42s/it]\n",
      "  0%|                                                                                          | 0/122 [00:00<?, ?it/s]"
     ]
    },
    {
     "name": "stdout",
     "output_type": "stream",
     "text": [
      "Train Loss: 0.447 | Accuracy: 86.052\n",
      "- Sensitivity :  90.12707722385142\n",
      "- Specificity :  80.15099087763447\n",
      "- Precision:  86.79916317991632\n"
     ]
    },
    {
     "name": "stderr",
     "output_type": "stream",
     "text": [
      "100%|████████████████████████████████████████████████████████████████████████████████| 122/122 [06:09<00:00,  3.03s/it]\n"
     ]
    },
    {
     "name": "stdout",
     "output_type": "stream",
     "text": [
      "Validate Loss: 0.448 | Accuracy: 86.008\n",
      "- Sensitivity :  78.17391304347827\n",
      "- Specificity :  97.35516372795969\n",
      "- Precision:  97.71739130434783\n"
     ]
    }
   ],
   "source": [
    "# Training the model for 15 epochs\n",
    "\n",
    "epochs=15\n",
    "for epoch in range(1,epochs+1): \n",
    "    \n",
    "    train(epoch)\n",
    "    validation(epoch)"
   ]
  },
  {
   "cell_type": "markdown",
   "metadata": {},
   "source": [
    "# Saving the model"
   ]
  },
  {
   "cell_type": "code",
   "execution_count": 11,
   "metadata": {},
   "outputs": [],
   "source": [
    "# Save the checkpoint\n",
    "\n",
    "def save_checkpoint(model):\n",
    "\n",
    "    model.class_to_idx = training_dataset.class_to_idx\n",
    "\n",
    "    checkpoint = {'arch': \"vgg16\",\n",
    "                  'class_to_idx': model.class_to_idx,\n",
    "                  'model_state_dict': model.state_dict()\n",
    "                 }\n",
    "\n",
    "    torch.save(checkpoint, 'DF_pytorch_vgg16_15epochs_lr0.0001.pth ')\n",
    "    \n",
    "save_checkpoint(model)  "
   ]
  },
  {
   "cell_type": "markdown",
   "metadata": {},
   "source": [
    "# Learning curves"
   ]
  },
  {
   "cell_type": "code",
   "execution_count": 12,
   "metadata": {},
   "outputs": [
    {
     "data": {
      "image/png": "[encoded data removed]",
      "text/plain": [
       "<Figure size 432x288 with 1 Axes>"
      ]
     },
     "metadata": {
      "needs_background": "light"
     },
     "output_type": "display_data"
    }
   ],
   "source": [
    "#training & validation accuracy plots\n",
    "\n",
    "plt.plot(train_accu)\n",
    "plt.plot(eval_accu)\n",
    "plt.xlabel('epoch')\n",
    "plt.ylabel('accuracy')\n",
    "plt.legend(['Train','Valid'])\n",
    "plt.title('Train vs Valid Accuracy')\n",
    " \n",
    "plt.show()"
   ]
  },
  {
   "cell_type": "code",
   "execution_count": 13,
   "metadata": {},
   "outputs": [
    {
     "data": {
      "image/png": "[encoded data removed]",
      "text/plain": [
       "<Figure size 432x288 with 1 Axes>"
      ]
     },
     "metadata": {
      "needs_background": "light"
     },
     "output_type": "display_data"
    }
   ],
   "source": [
    "#training & validation loss plots\n",
    "\n",
    "plt.plot(train_losses)\n",
    "plt.plot(eval_losses)\n",
    "plt.xlabel('epoch')\n",
    "plt.ylabel('losses')\n",
    "plt.legend(['Train','Valid'])\n",
    "plt.title('Train vs Valid Losses')\n",
    " \n",
    "plt.show()"
   ]
  },
  {
   "cell_type": "markdown",
   "metadata": {},
   "source": [
    "# Testing model"
   ]
  },
  {
   "cell_type": "code",
   "execution_count": 14,
   "metadata": {},
   "outputs": [
    {
     "name": "stdout",
     "output_type": "stream",
     "text": [
      "Test Accuracy: 0.8624853491783142\n",
      "Sensitivity :  78.47222222222221\n",
      "Specificity :  97.48743718592965\n",
      "Precision:  97.83549783549783\n",
      "Confusion Matrix [[776  20]\n",
      " [248 904]]\n",
      "F1-score 0.8709055876685934\n"
     ]
    }
   ],
   "source": [
    "#Defining test function with test results\n",
    "\n",
    "def test_accuracy(model, test_loader):\n",
    "\n",
    "    # Do validation on the test set\n",
    "    model.eval()\n",
    "\n",
    "    with torch.no_grad():\n",
    "    \n",
    "        accuracy = 0\n",
    "        CM=0\n",
    "    \n",
    "        for images, labels in iter(test_loader):\n",
    "    \n",
    "            output = model.forward(images)\n",
    "\n",
    "            probabilities = torch.exp(output)\n",
    "            preds = torch.argmax(output.data, 1)\n",
    "            \n",
    "            CM+=confusion_matrix(labels, preds, labels=[0,1])\n",
    "        \n",
    "            equality = (labels.data == probabilities.max(dim=1)[1])\n",
    "        \n",
    "            accuracy += equality.type(torch.FloatTensor).mean()\n",
    "            tn=CM[0][0]\n",
    "            tp=CM[1][1]\n",
    "            fp=CM[0][1]\n",
    "            fn=CM[1][0]\n",
    "        sensitivity=tp/(tp+fn)\n",
    "        precision=tp/(tp+fp)\n",
    "        f1_score=((2*sensitivity*precision)/(sensitivity+precision))\n",
    "        \n",
    "        print(\"Test Accuracy: {}\".format(accuracy/len(test_loader)))     \n",
    "        print('Sensitivity : ',(tp/(tp+fn))*100)\n",
    "        print('Specificity : ',(tn/(tn+fp))*100)\n",
    "        print('Precision: ',(tp/(tp+fp))*100)\n",
    "        print('Confusion Matrix', CM)\n",
    "        print('F1-score', f1_score)\n",
    "\n",
    "        \n",
    "test_accuracy(model, test_loader)"
   ]
  },
  {
   "cell_type": "code",
   "execution_count": 15,
   "metadata": {},
   "outputs": [
    {
     "name": "stdout",
     "output_type": "stream",
     "text": [
      "----------------------------------------------------------------\n",
      "        Layer (type)               Output Shape         Param #\n",
      "================================================================\n",
      "            Conv2d-1         [-1, 64, 224, 224]           1,792\n",
      "              ReLU-2         [-1, 64, 224, 224]               0\n",
      "            Conv2d-3         [-1, 64, 224, 224]          36,928\n",
      "              ReLU-4         [-1, 64, 224, 224]               0\n",
      "         MaxPool2d-5         [-1, 64, 112, 112]               0\n",
      "            Conv2d-6        [-1, 128, 112, 112]          73,856\n",
      "              ReLU-7        [-1, 128, 112, 112]               0\n",
      "            Conv2d-8        [-1, 128, 112, 112]         147,584\n",
      "              ReLU-9        [-1, 128, 112, 112]               0\n",
      "        MaxPool2d-10          [-1, 128, 56, 56]               0\n",
      "           Conv2d-11          [-1, 256, 56, 56]         295,168\n",
      "             ReLU-12          [-1, 256, 56, 56]               0\n",
      "           Conv2d-13          [-1, 256, 56, 56]         590,080\n",
      "             ReLU-14          [-1, 256, 56, 56]               0\n",
      "           Conv2d-15          [-1, 256, 56, 56]         590,080\n",
      "             ReLU-16          [-1, 256, 56, 56]               0\n",
      "        MaxPool2d-17          [-1, 256, 28, 28]               0\n",
      "           Conv2d-18          [-1, 512, 28, 28]       1,180,160\n",
      "             ReLU-19          [-1, 512, 28, 28]               0\n",
      "           Conv2d-20          [-1, 512, 28, 28]       2,359,808\n",
      "             ReLU-21          [-1, 512, 28, 28]               0\n",
      "           Conv2d-22          [-1, 512, 28, 28]       2,359,808\n",
      "             ReLU-23          [-1, 512, 28, 28]               0\n",
      "        MaxPool2d-24          [-1, 512, 14, 14]               0\n",
      "           Conv2d-25          [-1, 512, 14, 14]       2,359,808\n",
      "             ReLU-26          [-1, 512, 14, 14]               0\n",
      "           Conv2d-27          [-1, 512, 14, 14]       2,359,808\n",
      "             ReLU-28          [-1, 512, 14, 14]               0\n",
      "           Conv2d-29          [-1, 512, 14, 14]       2,359,808\n",
      "             ReLU-30          [-1, 512, 14, 14]               0\n",
      "        MaxPool2d-31            [-1, 512, 7, 7]               0\n",
      "AdaptiveAvgPool2d-32            [-1, 512, 7, 7]               0\n",
      "           Linear-33                 [-1, 4096]     102,764,544\n",
      "             ReLU-34                 [-1, 4096]               0\n",
      "          Dropout-35                 [-1, 4096]               0\n",
      "           Linear-36                    [-1, 2]           8,194\n",
      "          Sigmoid-37                    [-1, 2]               0\n",
      "================================================================\n",
      "Total params: 117,487,426\n",
      "Trainable params: 102,772,738\n",
      "Non-trainable params: 14,714,688\n",
      "----------------------------------------------------------------\n",
      "Input size (MB): 0.57\n",
      "Forward/backward pass size (MB): 218.68\n",
      "Params size (MB): 448.18\n",
      "Estimated Total Size (MB): 667.43\n",
      "----------------------------------------------------------------\n"
     ]
    }
   ],
   "source": [
    "#Summary of the model\n",
    "\n",
    "from torchsummary import summary\n",
    "summary(model, (3, 224, 224))"
   ]
  },
  {
   "cell_type": "code",
   "execution_count": null,
   "metadata": {},
   "outputs": [],
   "source": []
  }
 ],
 "metadata": {
  "kernelspec": {
   "display_name": "Python 3",
   "language": "python",
   "name": "python3"
  },
  "language_info": {
   "codemirror_mode": {
    "name": "ipython",
    "version": 3
   },
   "file_extension": ".py",
   "mimetype": "text/x-python",
   "name": "python",
   "nbconvert_exporter": "python",
   "pygments_lexer": "ipython3",
   "version": "3.8.3"
  }
 },
 "nbformat": 4,
 "nbformat_minor": 4
}
