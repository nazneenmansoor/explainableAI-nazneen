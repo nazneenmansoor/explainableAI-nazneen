{
 "cells": [
  {
   "cell_type": "markdown",
   "metadata": {},
   "source": [
    "# ResNet50 - DeepFake Detection"
   ]
  },
  {
   "cell_type": "code",
   "execution_count": 2,
   "metadata": {},
   "outputs": [],
   "source": [
    "# Imports here\n",
    "import numpy as np\n",
    "import pandas as pd\n",
    "import matplotlib.pyplot as plt\n",
    "import seaborn as sb\n",
    "import cv2\n",
    "import torch\n",
    "import torch.nn.functional as F\n",
    "\n",
    "from torch import nn\n",
    "from torch import optim\n",
    "from tqdm import tqdm \n",
    "from torchvision import datasets, transforms, models\n",
    "from sklearn.metrics import confusion_matrix"
   ]
  },
  {
   "cell_type": "markdown",
   "metadata": {},
   "source": [
    "# DeepFake detection dataset"
   ]
  },
  {
   "cell_type": "code",
   "execution_count": 3,
   "metadata": {},
   "outputs": [],
   "source": [
    "#training, validation, and test data\n",
    "\n",
    "train_dir = r\"E:\\BigdataandAI\\sem2\\AI2 Project work\\data for experiments\\split_dataset\\train\"\n",
    "valid_dir = r\"E:\\BigdataandAI\\sem2\\AI2 Project work\\data for experiments\\split_dataset\\val\"\n",
    "test_dir = r\"E:\\BigdataandAI\\sem2\\AI2 Project work\\data for experiments\\split_dataset\\test\""
   ]
  },
  {
   "cell_type": "code",
   "execution_count": 4,
   "metadata": {},
   "outputs": [],
   "source": [
    "# Define transforms for the training, validation, and testing sets\n",
    "training_transforms = transforms.Compose([transforms.RandomRotation(30),\n",
    "                                          transforms.RandomResizedCrop(224),\n",
    "                                          transforms.RandomHorizontalFlip(),\n",
    "                                          transforms.ToTensor(),\n",
    "                                          transforms.Normalize([0.485, 0.456, 0.406], \n",
    "                                                               [0.229, 0.224, 0.225])])\n",
    "\n",
    "validation_transforms = transforms.Compose([transforms.Resize(256),\n",
    "                                            transforms.CenterCrop(224),\n",
    "                                            transforms.ToTensor(),\n",
    "                                            transforms.Normalize([0.485, 0.456, 0.406], \n",
    "                                                                 [0.229, 0.224, 0.225])])\n",
    "\n",
    "testing_transforms = transforms.Compose([transforms.Resize(256),\n",
    "                                         transforms.CenterCrop(224),\n",
    "                                         transforms.ToTensor(),\n",
    "                                         transforms.Normalize([0.485, 0.456, 0.406], \n",
    "                                                              [0.229, 0.224, 0.225])])\n",
    "\n",
    "# TODO: Load the datasets with ImageFolder\n",
    "training_dataset = datasets.ImageFolder(train_dir, transform=training_transforms)\n",
    "validation_dataset = datasets.ImageFolder(valid_dir, transform=validation_transforms)\n",
    "testing_dataset = datasets.ImageFolder(test_dir, transform=testing_transforms)\n",
    "\n",
    "# TODO: Using the image datasets and the trainforms, define the dataloaders\n",
    "train_loader = torch.utils.data.DataLoader(training_dataset, batch_size=32, shuffle=True)\n",
    "validate_loader = torch.utils.data.DataLoader(validation_dataset, batch_size=32)\n",
    "test_loader = torch.utils.data.DataLoader(testing_dataset, batch_size=32)"
   ]
  },
  {
   "cell_type": "markdown",
   "metadata": {},
   "source": [
    "# Design & architecture"
   ]
  },
  {
   "cell_type": "code",
   "execution_count": 5,
   "metadata": {},
   "outputs": [
    {
     "name": "stderr",
     "output_type": "stream",
     "text": [
      "C:\\ProgramData\\Anaconda3\\lib\\site-packages\\torchvision\\models\\_utils.py:208: UserWarning: The parameter 'pretrained' is deprecated since 0.13 and may be removed in the future, please use 'weights' instead.\n",
      "  warnings.warn(\n",
      "C:\\ProgramData\\Anaconda3\\lib\\site-packages\\torchvision\\models\\_utils.py:223: UserWarning: Arguments other than a weight enum or `None` for 'weights' are deprecated since 0.13 and may be removed in the future. The current behavior is equivalent to passing `weights=ResNet50_Weights.IMAGENET1K_V1`. You can also use `weights=ResNet50_Weights.DEFAULT` to get the most up-to-date weights.\n",
      "  warnings.warn(msg)\n"
     ]
    }
   ],
   "source": [
    "# Load pretrained ResNet50 Model\n",
    "\n",
    "model = models.resnet50(pretrained=True)\n"
   ]
  },
  {
   "cell_type": "code",
   "execution_count": 6,
   "metadata": {},
   "outputs": [],
   "source": [
    "# Freeze model parameters\n",
    "for param in model.parameters():\n",
    "    param.requires_grad = False"
   ]
  },
  {
   "cell_type": "code",
   "execution_count": 7,
   "metadata": {},
   "outputs": [],
   "source": [
    "# Change the final layer of ResNet50 Model for Transfer Learning\n",
    "fc_inputs = model.fc.in_features\n",
    "model.fc = nn.Sequential(\n",
    "    nn.Linear(fc_inputs, 256),\n",
    "    nn.ReLU(),\n",
    "    nn.Dropout(0.4),\n",
    "    nn.Linear(256, 2), \n",
    "    nn.Sigmoid() # For using NLLLoss()\n",
    ")"
   ]
  },
  {
   "cell_type": "markdown",
   "metadata": {},
   "source": [
    "# Define loss function with Adam optimizer"
   ]
  },
  {
   "cell_type": "code",
   "execution_count": 8,
   "metadata": {},
   "outputs": [],
   "source": [
    "# Loss function and gradient descent\n",
    "\n",
    "loss_fn = nn.CrossEntropyLoss()\n",
    "optimizer = torch.optim.Adam(model.fc.parameters(), lr=0.00001)\n"
   ]
  },
  {
   "cell_type": "markdown",
   "metadata": {},
   "source": [
    "# Model training"
   ]
  },
  {
   "cell_type": "code",
   "execution_count": 9,
   "metadata": {},
   "outputs": [],
   "source": [
    "# Define training accuracy & loss \n",
    "\n",
    "train_accu = []\n",
    "train_losses = []\n",
    "\n",
    "# Function for defining the train\n",
    "def train(epoch):\n",
    "    \n",
    "    print('\\nEpoch : %d'%epoch)\n",
    "    model.train()\n",
    " \n",
    "    running_loss=0\n",
    "    correct=0\n",
    "    total=0\n",
    "    CM=0\n",
    " \n",
    "    for data in tqdm(train_loader):\n",
    "\n",
    "        inputs,labels=data[0],data[1]\n",
    "     \n",
    "        optimizer.zero_grad()\n",
    "        outputs=model(inputs)\n",
    "        loss=loss_fn(outputs,labels)\n",
    "        loss.backward()\n",
    "        optimizer.step()\n",
    " \n",
    "        running_loss += loss.item()\n",
    "     \n",
    "        _, predicted = outputs.max(1)\n",
    "        total += labels.size(0)\n",
    "        correct += predicted.eq(labels).sum().item()\n",
    "        CM+=confusion_matrix(labels, predicted,labels=[0,1])\n",
    "      \n",
    "        tn=int(CM[0][0])\n",
    "        tp=int(CM[1][1])\n",
    "        fp=int(CM[0][1])\n",
    "        fn=int(CM[1][0])\n",
    "    train_loss=running_loss/len(train_loader)\n",
    "    accu=100.*correct/total\n",
    "    sensitivity=tp/(tp+fn)\n",
    "    precision=tp/(tp+fp)\n",
    "   \n",
    "    train_accu.append(accu)\n",
    "    train_losses.append(train_loss)\n",
    "    \n",
    "    # Print performance metric values\n",
    "    print('Train Loss: %.3f | Accuracy: %.3f'%(train_loss,accu))\n",
    "    print('- Sensitivity : ',(tp/(tp+fn))*100)\n",
    "    print('- Specificity : ',(tn/(tn+fp))*100)\n",
    "    print('- Precision: ',(tp/(tp+fp))*100)\n",
    "    print('Confusion Matrix', CM)"
   ]
  },
  {
   "cell_type": "code",
   "execution_count": 10,
   "metadata": {},
   "outputs": [],
   "source": [
    "# Define validation accuracy & loss\n",
    "\n",
    "eval_losses=[]\n",
    "eval_accu=[]\n",
    " \n",
    "# Function for defining the validation\n",
    "def validation(epoch):\n",
    "    \n",
    "    model.eval()\n",
    " \n",
    "    running_loss=0\n",
    "    correct=0\n",
    "    total=0\n",
    "    CM=0\n",
    " \n",
    "    with torch.no_grad():\n",
    "        for data in tqdm(validate_loader):\n",
    "            \n",
    "            images,labels=data[0],data[1]\n",
    "            outputs=model(images)\n",
    " \n",
    "            loss= loss_fn(outputs,labels)\n",
    "            running_loss+=loss.item()\n",
    "       \n",
    "            _, predicted = outputs.max(1)\n",
    "            total += labels.size(0)\n",
    "            correct += predicted.eq(labels).sum().item()\n",
    "            CM+=confusion_matrix(labels, predicted, labels=[0,1])\n",
    "   \n",
    "        tn=int(CM[0][0])\n",
    "        tp=int(CM[1][1])\n",
    "        fp=int(CM[0][1])\n",
    "        fn=int(CM[1][0])\n",
    "    validate_loss=running_loss/len(validate_loader)\n",
    "    accu=100.*correct/total\n",
    "    sensitivity=tp/(tp+fn)\n",
    "    precision=tp/(tp+fp)\n",
    " \n",
    "    eval_losses.append(validate_loss)\n",
    "    eval_accu.append(accu)\n",
    " \n",
    "    # Print performance metric values\n",
    "    print('Validate Loss: %.3f | Accuracy: %.3f'%(validate_loss,accu))\n",
    "    print('- Sensitivity : ',(tp/(tp+fn))*100)\n",
    "    print('- Specificity : ',(tn/(tn+fp))*100)\n",
    "    print('- Precision: ',(tp/(tp+fp))*100)\n",
    "    print('Confusion Matrix', CM)"
   ]
  },
  {
   "cell_type": "code",
   "execution_count": 11,
   "metadata": {},
   "outputs": [
    {
     "name": "stderr",
     "output_type": "stream",
     "text": [
      "\r",
      "  0%|                                                                                          | 0/487 [00:00<?, ?it/s]"
     ]
    },
    {
     "name": "stdout",
     "output_type": "stream",
     "text": [
      "\n",
      "Epoch : 1\n"
     ]
    },
    {
     "name": "stderr",
     "output_type": "stream",
     "text": [
      "100%|████████████████████████████████████████████████████████████████████████████████| 487/487 [30:31<00:00,  3.76s/it]\n",
      "  0%|                                                                                           | 0/61 [00:00<?, ?it/s]"
     ]
    },
    {
     "name": "stdout",
     "output_type": "stream",
     "text": [
      "Train Loss: 0.665 | Accuracy: 58.940\n",
      "- Sensitivity :  98.33822091886609\n",
      "- Specificity :  1.887385970430953\n",
      "- Precision:  59.20742872089981\n",
      "Confusion Matrix [[ 120 6238]\n",
      " [ 153 9054]]\n"
     ]
    },
    {
     "name": "stderr",
     "output_type": "stream",
     "text": [
      "100%|██████████████████████████████████████████████████████████████████████████████████| 61/61 [03:31<00:00,  3.48s/it]\n",
      "  0%|                                                                                          | 0/487 [00:00<?, ?it/s]"
     ]
    },
    {
     "name": "stdout",
     "output_type": "stream",
     "text": [
      "Validate Loss: 0.645 | Accuracy: 59.259\n",
      "- Sensitivity :  100.0\n",
      "- Specificity :  0.2518891687657431\n",
      "- Precision:  59.2173017507724\n",
      "Confusion Matrix [[   2  792]\n",
      " [   0 1150]]\n",
      "\n",
      "Epoch : 2\n"
     ]
    },
    {
     "name": "stderr",
     "output_type": "stream",
     "text": [
      "100%|████████████████████████████████████████████████████████████████████████████████| 487/487 [30:22<00:00,  3.74s/it]\n",
      "  0%|                                                                                           | 0/61 [00:00<?, ?it/s]"
     ]
    },
    {
     "name": "stdout",
     "output_type": "stream",
     "text": [
      "Train Loss: 0.631 | Accuracy: 67.061\n",
      "- Sensitivity :  96.13337677853806\n",
      "- Specificity :  24.960679458949357\n",
      "- Precision:  64.97577448245485\n",
      "Confusion Matrix [[1587 4771]\n",
      " [ 356 8851]]\n"
     ]
    },
    {
     "name": "stderr",
     "output_type": "stream",
     "text": [
      "100%|██████████████████████████████████████████████████████████████████████████████████| 61/61 [03:32<00:00,  3.48s/it]\n",
      "  0%|                                                                                          | 0/487 [00:00<?, ?it/s]"
     ]
    },
    {
     "name": "stdout",
     "output_type": "stream",
     "text": [
      "Validate Loss: 0.609 | Accuracy: 69.444\n",
      "- Sensitivity :  97.73913043478261\n",
      "- Specificity :  28.463476070528966\n",
      "- Precision:  66.43026004728132\n",
      "Confusion Matrix [[ 226  568]\n",
      " [  26 1124]]\n",
      "\n",
      "Epoch : 3\n"
     ]
    },
    {
     "name": "stderr",
     "output_type": "stream",
     "text": [
      "100%|████████████████████████████████████████████████████████████████████████████████| 487/487 [30:22<00:00,  3.74s/it]\n",
      "  0%|                                                                                           | 0/61 [00:00<?, ?it/s]"
     ]
    },
    {
     "name": "stdout",
     "output_type": "stream",
     "text": [
      "Train Loss: 0.604 | Accuracy: 73.492\n",
      "- Sensitivity :  91.54990767893993\n",
      "- Specificity :  47.34193142497641\n",
      "- Precision:  71.57170756559395\n",
      "Confusion Matrix [[3010 3348]\n",
      " [ 778 8429]]\n"
     ]
    },
    {
     "name": "stderr",
     "output_type": "stream",
     "text": [
      "100%|██████████████████████████████████████████████████████████████████████████████████| 61/61 [03:32<00:00,  3.48s/it]\n",
      "  0%|                                                                                          | 0/487 [00:00<?, ?it/s]"
     ]
    },
    {
     "name": "stdout",
     "output_type": "stream",
     "text": [
      "Validate Loss: 0.582 | Accuracy: 75.720\n",
      "- Sensitivity :  96.0\n",
      "- Specificity :  46.34760705289673\n",
      "- Precision:  72.15686274509804\n",
      "Confusion Matrix [[ 368  426]\n",
      " [  46 1104]]\n",
      "\n",
      "Epoch : 4\n"
     ]
    },
    {
     "name": "stderr",
     "output_type": "stream",
     "text": [
      "100%|████████████████████████████████████████████████████████████████████████████████| 487/487 [30:23<00:00,  3.74s/it]\n",
      "  0%|                                                                                           | 0/61 [00:00<?, ?it/s]"
     ]
    },
    {
     "name": "stdout",
     "output_type": "stream",
     "text": [
      "Train Loss: 0.584 | Accuracy: 75.612\n",
      "- Sensitivity :  88.98664059954382\n",
      "- Specificity :  56.244101918842404\n",
      "- Precision:  74.65148063781322\n",
      "Confusion Matrix [[3576 2782]\n",
      " [1014 8193]]\n"
     ]
    },
    {
     "name": "stderr",
     "output_type": "stream",
     "text": [
      "100%|██████████████████████████████████████████████████████████████████████████████████| 61/61 [03:31<00:00,  3.47s/it]\n",
      "  0%|                                                                                          | 0/487 [00:00<?, ?it/s]"
     ]
    },
    {
     "name": "stdout",
     "output_type": "stream",
     "text": [
      "Validate Loss: 0.563 | Accuracy: 78.704\n",
      "- Sensitivity :  93.82608695652173\n",
      "- Specificity :  56.80100755667507\n",
      "- Precision:  75.8790436005626\n",
      "Confusion Matrix [[ 451  343]\n",
      " [  71 1079]]\n",
      "\n",
      "Epoch : 5\n"
     ]
    },
    {
     "name": "stderr",
     "output_type": "stream",
     "text": [
      "100%|████████████████████████████████████████████████████████████████████████████████| 487/487 [30:24<00:00,  3.75s/it]\n",
      "  0%|                                                                                           | 0/61 [00:00<?, ?it/s]"
     ]
    },
    {
     "name": "stdout",
     "output_type": "stream",
     "text": [
      "Train Loss: 0.569 | Accuracy: 76.351\n",
      "- Sensitivity :  87.9874008906267\n",
      "- Specificity :  59.49984271783579\n",
      "- Precision:  75.88047958036718\n",
      "Confusion Matrix [[3783 2575]\n",
      " [1106 8101]]\n"
     ]
    },
    {
     "name": "stderr",
     "output_type": "stream",
     "text": [
      "100%|██████████████████████████████████████████████████████████████████████████████████| 61/61 [03:33<00:00,  3.50s/it]\n",
      "  0%|                                                                                          | 0/487 [00:00<?, ?it/s]"
     ]
    },
    {
     "name": "stdout",
     "output_type": "stream",
     "text": [
      "Validate Loss: 0.549 | Accuracy: 79.681\n",
      "- Sensitivity :  91.47826086956522\n",
      "- Specificity :  62.59445843828715\n",
      "- Precision:  77.98369162342476\n",
      "Confusion Matrix [[ 497  297]\n",
      " [  98 1052]]\n",
      "\n",
      "Epoch : 6\n"
     ]
    },
    {
     "name": "stderr",
     "output_type": "stream",
     "text": [
      "100%|████████████████████████████████████████████████████████████████████████████████| 487/487 [30:47<00:00,  3.79s/it]\n",
      "  0%|                                                                                           | 0/61 [00:00<?, ?it/s]"
     ]
    },
    {
     "name": "stdout",
     "output_type": "stream",
     "text": [
      "Train Loss: 0.559 | Accuracy: 77.013\n",
      "- Sensitivity :  86.77093515803193\n",
      "- Specificity :  62.881409248191254\n",
      "- Precision:  77.19586433471834\n",
      "Confusion Matrix [[3998 2360]\n",
      " [1218 7989]]\n"
     ]
    },
    {
     "name": "stderr",
     "output_type": "stream",
     "text": [
      "100%|██████████████████████████████████████████████████████████████████████████████████| 61/61 [03:43<00:00,  3.66s/it]\n",
      "  0%|                                                                                          | 0/487 [00:00<?, ?it/s]"
     ]
    },
    {
     "name": "stdout",
     "output_type": "stream",
     "text": [
      "Validate Loss: 0.538 | Accuracy: 80.350\n",
      "- Sensitivity :  91.21739130434783\n",
      "- Specificity :  64.6095717884131\n",
      "- Precision:  78.87218045112782\n",
      "Confusion Matrix [[ 513  281]\n",
      " [ 101 1049]]\n",
      "\n",
      "Epoch : 7\n"
     ]
    },
    {
     "name": "stderr",
     "output_type": "stream",
     "text": [
      "100%|████████████████████████████████████████████████████████████████████████████████| 487/487 [31:43<00:00,  3.91s/it]\n",
      "  0%|                                                                                           | 0/61 [00:00<?, ?it/s]"
     ]
    },
    {
     "name": "stdout",
     "output_type": "stream",
     "text": [
      "Train Loss: 0.552 | Accuracy: 77.649\n",
      "- Sensitivity :  87.22710980775497\n",
      "- Specificity :  63.77791758414596\n",
      "- Precision:  77.7143410102574\n",
      "Confusion Matrix [[4055 2303]\n",
      " [1176 8031]]\n"
     ]
    },
    {
     "name": "stderr",
     "output_type": "stream",
     "text": [
      "100%|██████████████████████████████████████████████████████████████████████████████████| 61/61 [03:33<00:00,  3.50s/it]\n",
      "  0%|                                                                                          | 0/487 [00:00<?, ?it/s]"
     ]
    },
    {
     "name": "stdout",
     "output_type": "stream",
     "text": [
      "Validate Loss: 0.534 | Accuracy: 79.835\n",
      "- Sensitivity :  84.08695652173913\n",
      "- Specificity :  73.67758186397985\n",
      "- Precision:  82.22789115646259\n",
      "Confusion Matrix [[585 209]\n",
      " [183 967]]\n",
      "\n",
      "Epoch : 8\n"
     ]
    },
    {
     "name": "stderr",
     "output_type": "stream",
     "text": [
      "100%|████████████████████████████████████████████████████████████████████████████████| 487/487 [30:31<00:00,  3.76s/it]\n",
      "  0%|                                                                                           | 0/61 [00:00<?, ?it/s]"
     ]
    },
    {
     "name": "stdout",
     "output_type": "stream",
     "text": [
      "Train Loss: 0.541 | Accuracy: 78.664\n",
      "- Sensitivity :  86.86868686868688\n",
      "- Specificity :  66.78200692041523\n",
      "- Precision:  79.10979228486646\n",
      "Confusion Matrix [[4246 2112]\n",
      " [1209 7998]]\n"
     ]
    },
    {
     "name": "stderr",
     "output_type": "stream",
     "text": [
      "100%|██████████████████████████████████████████████████████████████████████████████████| 61/61 [03:32<00:00,  3.49s/it]\n",
      "  0%|                                                                                          | 0/487 [00:00<?, ?it/s]"
     ]
    },
    {
     "name": "stdout",
     "output_type": "stream",
     "text": [
      "Validate Loss: 0.530 | Accuracy: 80.041\n",
      "- Sensitivity :  82.69565217391305\n",
      "- Specificity :  76.19647355163728\n",
      "- Precision:  83.42105263157895\n",
      "Confusion Matrix [[605 189]\n",
      " [199 951]]\n",
      "\n",
      "Epoch : 9\n"
     ]
    },
    {
     "name": "stderr",
     "output_type": "stream",
     "text": [
      "100%|████████████████████████████████████████████████████████████████████████████████| 487/487 [30:30<00:00,  3.76s/it]\n",
      "  0%|                                                                                           | 0/61 [00:00<?, ?it/s]"
     ]
    },
    {
     "name": "stdout",
     "output_type": "stream",
     "text": [
      "Train Loss: 0.536 | Accuracy: 78.773\n",
      "- Sensitivity :  86.41251221896383\n",
      "- Specificity :  67.70997168921045\n",
      "- Precision:  79.48846038565291\n",
      "Confusion Matrix [[4305 2053]\n",
      " [1251 7956]]\n"
     ]
    },
    {
     "name": "stderr",
     "output_type": "stream",
     "text": [
      "100%|██████████████████████████████████████████████████████████████████████████████████| 61/61 [03:33<00:00,  3.50s/it]\n",
      "  0%|                                                                                          | 0/487 [00:00<?, ?it/s]"
     ]
    },
    {
     "name": "stdout",
     "output_type": "stream",
     "text": [
      "Validate Loss: 0.523 | Accuracy: 79.733\n",
      "- Sensitivity :  84.43478260869566\n",
      "- Specificity :  72.92191435768261\n",
      "- Precision:  81.87183811129847\n",
      "Confusion Matrix [[579 215]\n",
      " [179 971]]\n",
      "\n",
      "Epoch : 10\n"
     ]
    },
    {
     "name": "stderr",
     "output_type": "stream",
     "text": [
      "100%|████████████████████████████████████████████████████████████████████████████████| 487/487 [30:26<00:00,  3.75s/it]\n",
      "  0%|                                                                                           | 0/61 [00:00<?, ?it/s]"
     ]
    },
    {
     "name": "stdout",
     "output_type": "stream",
     "text": [
      "Train Loss: 0.533 | Accuracy: 78.542\n",
      "- Sensitivity :  86.14097968936679\n",
      "- Specificity :  67.5369613085876\n",
      "- Precision:  79.3496748374187\n",
      "Confusion Matrix [[4294 2064]\n",
      " [1276 7931]]\n"
     ]
    },
    {
     "name": "stderr",
     "output_type": "stream",
     "text": [
      "100%|██████████████████████████████████████████████████████████████████████████████████| 61/61 [03:31<00:00,  3.47s/it]\n",
      "  0%|                                                                                          | 0/487 [00:00<?, ?it/s]"
     ]
    },
    {
     "name": "stdout",
     "output_type": "stream",
     "text": [
      "Validate Loss: 0.517 | Accuracy: 80.041\n",
      "- Sensitivity :  84.08695652173913\n",
      "- Specificity :  74.18136020151134\n",
      "- Precision:  82.5085324232082\n",
      "Confusion Matrix [[589 205]\n",
      " [183 967]]\n",
      "\n",
      "Epoch : 11\n"
     ]
    },
    {
     "name": "stderr",
     "output_type": "stream",
     "text": [
      "100%|████████████████████████████████████████████████████████████████████████████████| 487/487 [30:27<00:00,  3.75s/it]\n",
      "  0%|                                                                                           | 0/61 [00:00<?, ?it/s]"
     ]
    },
    {
     "name": "stdout",
     "output_type": "stream",
     "text": [
      "Train Loss: 0.526 | Accuracy: 79.557\n",
      "- Sensitivity :  86.57543173672207\n",
      "- Specificity :  69.39289084617805\n",
      "- Precision:  80.37713018049814\n",
      "Confusion Matrix [[4412 1946]\n",
      " [1236 7971]]\n"
     ]
    },
    {
     "name": "stderr",
     "output_type": "stream",
     "text": [
      "100%|██████████████████████████████████████████████████████████████████████████████████| 61/61 [03:32<00:00,  3.48s/it]\n",
      "  0%|                                                                                          | 0/487 [00:00<?, ?it/s]"
     ]
    },
    {
     "name": "stdout",
     "output_type": "stream",
     "text": [
      "Validate Loss: 0.514 | Accuracy: 80.247\n",
      "- Sensitivity :  83.91304347826087\n",
      "- Specificity :  74.93702770780857\n",
      "- Precision:  82.90378006872852\n",
      "Confusion Matrix [[595 199]\n",
      " [185 965]]\n",
      "\n",
      "Epoch : 12\n"
     ]
    },
    {
     "name": "stderr",
     "output_type": "stream",
     "text": [
      "100%|████████████████████████████████████████████████████████████████████████████████| 487/487 [30:21<00:00,  3.74s/it]\n",
      "  0%|                                                                                           | 0/61 [00:00<?, ?it/s]"
     ]
    },
    {
     "name": "stdout",
     "output_type": "stream",
     "text": [
      "Train Loss: 0.526 | Accuracy: 78.908\n",
      "- Sensitivity :  86.16270229173455\n",
      "- Specificity :  68.4020132117018\n",
      "- Precision:  79.79279822973245\n",
      "Confusion Matrix [[4349 2009]\n",
      " [1274 7933]]\n"
     ]
    },
    {
     "name": "stderr",
     "output_type": "stream",
     "text": [
      "100%|██████████████████████████████████████████████████████████████████████████████████| 61/61 [03:33<00:00,  3.49s/it]\n",
      "  0%|                                                                                          | 0/487 [00:00<?, ?it/s]"
     ]
    },
    {
     "name": "stdout",
     "output_type": "stream",
     "text": [
      "Validate Loss: 0.510 | Accuracy: 80.556\n",
      "- Sensitivity :  88.0\n",
      "- Specificity :  69.77329974811083\n",
      "- Precision:  80.83067092651757\n",
      "Confusion Matrix [[ 554  240]\n",
      " [ 138 1012]]\n",
      "\n",
      "Epoch : 13\n"
     ]
    },
    {
     "name": "stderr",
     "output_type": "stream",
     "text": [
      "100%|████████████████████████████████████████████████████████████████████████████████| 487/487 [30:26<00:00,  3.75s/it]\n",
      "  0%|                                                                                           | 0/61 [00:00<?, ?it/s]"
     ]
    },
    {
     "name": "stdout",
     "output_type": "stream",
     "text": [
      "Train Loss: 0.520 | Accuracy: 79.364\n",
      "- Sensitivity :  86.46681872488324\n",
      "- Specificity :  69.07832651777288\n",
      "- Precision:  80.19542661428427\n",
      "Confusion Matrix [[4392 1966]\n",
      " [1246 7961]]\n"
     ]
    },
    {
     "name": "stderr",
     "output_type": "stream",
     "text": [
      "100%|██████████████████████████████████████████████████████████████████████████████████| 61/61 [03:32<00:00,  3.49s/it]\n",
      "  0%|                                                                                          | 0/487 [00:00<?, ?it/s]"
     ]
    },
    {
     "name": "stdout",
     "output_type": "stream",
     "text": [
      "Validate Loss: 0.512 | Accuracy: 80.453\n",
      "- Sensitivity :  82.52173913043478\n",
      "- Specificity :  77.455919395466\n",
      "- Precision:  84.13120567375887\n",
      "Confusion Matrix [[615 179]\n",
      " [201 949]]\n",
      "\n",
      "Epoch : 14\n"
     ]
    },
    {
     "name": "stderr",
     "output_type": "stream",
     "text": [
      "100%|████████████████████████████████████████████████████████████████████████████████| 487/487 [30:22<00:00,  3.74s/it]\n",
      "  0%|                                                                                           | 0/61 [00:00<?, ?it/s]"
     ]
    },
    {
     "name": "stdout",
     "output_type": "stream",
     "text": [
      "Train Loss: 0.520 | Accuracy: 79.313\n",
      "- Sensitivity :  85.69566634082764\n",
      "- Specificity :  70.06920415224913\n",
      "- Precision:  80.56775247625855\n",
      "Confusion Matrix [[4455 1903]\n",
      " [1317 7890]]\n"
     ]
    },
    {
     "name": "stderr",
     "output_type": "stream",
     "text": [
      "100%|██████████████████████████████████████████████████████████████████████████████████| 61/61 [03:32<00:00,  3.48s/it]\n",
      "  0%|                                                                                          | 0/487 [00:00<?, ?it/s]"
     ]
    },
    {
     "name": "stdout",
     "output_type": "stream",
     "text": [
      "Validate Loss: 0.510 | Accuracy: 80.710\n",
      "- Sensitivity :  81.65217391304348\n",
      "- Specificity :  79.34508816120906\n",
      "- Precision:  85.13145965548505\n",
      "Confusion Matrix [[630 164]\n",
      " [211 939]]\n",
      "\n",
      "Epoch : 15\n"
     ]
    },
    {
     "name": "stderr",
     "output_type": "stream",
     "text": [
      "100%|████████████████████████████████████████████████████████████████████████████████| 487/487 [30:25<00:00,  3.75s/it]\n",
      "  0%|                                                                                           | 0/61 [00:00<?, ?it/s]"
     ]
    },
    {
     "name": "stdout",
     "output_type": "stream",
     "text": [
      "Train Loss: 0.516 | Accuracy: 79.820\n",
      "- Sensitivity :  86.03236667752797\n",
      "- Specificity :  70.82415854042151\n",
      "- Precision:  81.02495908346971\n",
      "Confusion Matrix [[4503 1855]\n",
      " [1286 7921]]\n"
     ]
    },
    {
     "name": "stderr",
     "output_type": "stream",
     "text": [
      "100%|██████████████████████████████████████████████████████████████████████████████████| 61/61 [03:31<00:00,  3.47s/it]"
     ]
    },
    {
     "name": "stdout",
     "output_type": "stream",
     "text": [
      "Validate Loss: 0.508 | Accuracy: 80.504\n",
      "- Sensitivity :  83.21739130434781\n",
      "- Specificity :  76.57430730478589\n",
      "- Precision:  83.72703412073491\n",
      "Confusion Matrix [[608 186]\n",
      " [193 957]]\n"
     ]
    },
    {
     "name": "stderr",
     "output_type": "stream",
     "text": [
      "\n"
     ]
    }
   ],
   "source": [
    "# Training the model for 15 epochs \n",
    "\n",
    "epochs=15\n",
    "for epoch in range(1,epochs+1): \n",
    "    \n",
    "    train(epoch)\n",
    "    validation(epoch)"
   ]
  },
  {
   "cell_type": "markdown",
   "metadata": {},
   "source": [
    "# Learning curves"
   ]
  },
  {
   "cell_type": "code",
   "execution_count": 12,
   "metadata": {},
   "outputs": [
    {
     "data": {
      "image/png": "[encoded data removed]",
      "text/plain": [
       "<Figure size 432x288 with 1 Axes>"
      ]
     },
     "metadata": {
      "needs_background": "light"
     },
     "output_type": "display_data"
    }
   ],
   "source": [
    "#training & validation accuracy plots\n",
    "\n",
    "plt.plot(train_accu)\n",
    "plt.plot(eval_accu)\n",
    "plt.xlabel('epoch')\n",
    "plt.ylabel('accuracy')\n",
    "plt.legend(['Train','Valid'])\n",
    "plt.title('Train vs Valid Accuracy')\n",
    " \n",
    "plt.show()"
   ]
  },
  {
   "cell_type": "code",
   "execution_count": 13,
   "metadata": {},
   "outputs": [
    {
     "data": {
      "image/png": "[encoded data removed]",
      "text/plain": [
       "<Figure size 432x288 with 1 Axes>"
      ]
     },
     "metadata": {
      "needs_background": "light"
     },
     "output_type": "display_data"
    }
   ],
   "source": [
    "#training & validation loss plots\n",
    "\n",
    "plt.plot(train_losses)\n",
    "plt.plot(eval_losses)\n",
    "plt.xlabel('epoch')\n",
    "plt.ylabel('losses')\n",
    "plt.legend(['Train','Valid'])\n",
    "plt.title('Train vs Valid Losses')\n",
    " \n",
    "plt.show()"
   ]
  },
  {
   "cell_type": "code",
   "execution_count": 14,
   "metadata": {},
   "outputs": [
    {
     "name": "stdout",
     "output_type": "stream",
     "text": [
      "Test Accuracy: 0.8278688788414001\n"
     ]
    }
   ],
   "source": [
    "def test_accuracy(model, test_loader):\n",
    "\n",
    "    # Do validation on the test set\n",
    "    model.eval()\n",
    "\n",
    "    with torch.no_grad():\n",
    "    \n",
    "        accuracy = 0\n",
    "    \n",
    "        for images, labels in iter(test_loader):\n",
    "    \n",
    "            output = model.forward(images)\n",
    "\n",
    "            probabilities = torch.exp(output)\n",
    "        \n",
    "            equality = (labels.data == probabilities.max(dim=1)[1])\n",
    "        \n",
    "            accuracy += equality.type(torch.FloatTensor).mean()\n",
    "        \n",
    "        print(\"Test Accuracy: {}\".format(accuracy/len(test_loader)))    \n",
    "        \n",
    "        \n",
    "test_accuracy(model, test_loader)"
   ]
  },
  {
   "cell_type": "markdown",
   "metadata": {},
   "source": [
    "# Testing model"
   ]
  },
  {
   "cell_type": "code",
   "execution_count": 21,
   "metadata": {},
   "outputs": [
    {
     "name": "stdout",
     "output_type": "stream",
     "text": [
      "Test Accuracy: 0.8278688788414001\n",
      "Sensitivity :  85.59027777777779\n",
      "Specificity :  78.64321608040201\n",
      "Precision:  85.29411764705883\n",
      "Confusion Matrix [[626 170]\n",
      " [166 986]]\n",
      "F1-score 0.854419410745234\n"
     ]
    }
   ],
   "source": [
    "#Defining test function with test results\n",
    "\n",
    "def test_accuracy(model, test_loader):\n",
    "\n",
    "    # Do validation on the test set\n",
    "    model.eval()\n",
    "\n",
    "    with torch.no_grad():\n",
    "    \n",
    "        accuracy = 0\n",
    "        CM=0\n",
    "    \n",
    "        for images, labels in iter(test_loader):\n",
    "    \n",
    "            output = model.forward(images)\n",
    "\n",
    "            probabilities = torch.exp(output)\n",
    "            preds = torch.argmax(output.data, 1)\n",
    "            \n",
    "            CM+=confusion_matrix(labels, preds, labels=[0,1])\n",
    "        \n",
    "            equality = (labels.data == probabilities.max(dim=1)[1])\n",
    "        \n",
    "            accuracy += equality.type(torch.FloatTensor).mean()\n",
    "            tn=CM[0][0]\n",
    "            tp=CM[1][1]\n",
    "            fp=CM[0][1]\n",
    "            fn=CM[1][0]\n",
    "        sensitivity=tp/(tp+fn)\n",
    "        precision=tp/(tp+fp)\n",
    "        f1_score=((2*sensitivity*precision)/(sensitivity+precision))\n",
    "        \n",
    "        print(\"Test Accuracy: {}\".format(accuracy/len(test_loader)))     \n",
    "        print('Sensitivity : ',(tp/(tp+fn))*100)\n",
    "        print('Specificity : ',(tn/(tn+fp))*100)\n",
    "        print('Precision: ',(tp/(tp+fp))*100)\n",
    "        print('Confusion Matrix', CM)\n",
    "        print('F1-score', f1_score)\n",
    "\n",
    "        \n",
    "test_accuracy(model, test_loader)"
   ]
  },
  {
   "cell_type": "markdown",
   "metadata": {},
   "source": [
    "# Saving the model"
   ]
  },
  {
   "cell_type": "code",
   "execution_count": null,
   "metadata": {},
   "outputs": [],
   "source": [
    "# Save the checkpoint\n",
    "\n",
    "def save_checkpoint(model):\n",
    "\n",
    "    model.class_to_idx = training_dataset.class_to_idx\n",
    "\n",
    "    checkpoint = {'arch': \"resnet50\",\n",
    "                  'class_to_idx': model.class_to_idx,\n",
    "                  'model_state_dict': model.state_dict()\n",
    "                 }\n",
    "\n",
    "    torch.save(checkpoint, 'DF_pytorch_model1_resnet50_15epochs_lr0.00001.pth ')\n",
    "    \n",
    "save_checkpoint(model)  "
   ]
  },
  {
   "cell_type": "code",
   "execution_count": null,
   "metadata": {},
   "outputs": [],
   "source": []
  }
 ],
 "metadata": {
  "kernelspec": {
   "display_name": "Python 3",
   "language": "python",
   "name": "python3"
  },
  "language_info": {
   "codemirror_mode": {
    "name": "ipython",
    "version": 3
   },
   "file_extension": ".py",
   "mimetype": "text/x-python",
   "name": "python",
   "nbconvert_exporter": "python",
   "pygments_lexer": "ipython3",
   "version": "3.8.3"
  }
 },
 "nbformat": 4,
 "nbformat_minor": 4
}
