{
 "cells": [
  {
   "cell_type": "markdown",
   "metadata": {},
   "source": [
    "#                                    CODING CHALLENGE - PART 2"
   ]
  },
  {
   "cell_type": "markdown",
   "metadata": {},
   "source": [
    "Task is to train an algorithm of your choice to forecast whether it will snow on the following date for each station in this dataset"
   ]
  },
  {
   "cell_type": "code",
   "execution_count": 1,
   "metadata": {},
   "outputs": [
    {
     "name": "stderr",
     "output_type": "stream",
     "text": [
      "C:\\ProgramData\\Anaconda3\\lib\\site-packages\\pandas\\core\\computation\\expressions.py:20: UserWarning: Pandas requires version '2.7.3' or newer of 'numexpr' (version '2.7.1' currently installed).\n",
      "  from pandas.core.computation.check import NUMEXPR_INSTALLED\n"
     ]
    }
   ],
   "source": [
    "#Import libraries\n",
    "\n",
    "import pandas as pd\n",
    "import numpy as np\n",
    "import matplotlib.pyplot as plt\n",
    "from sklearn.model_selection import train_test_split\n",
    "from xgboost import XGBClassifier\n",
    "from sklearn.ensemble import RandomForestClassifier\n",
    "from sklearn.metrics import accuracy_score, classification_report, confusion_matrix, roc_auc_score, roc_curve\n",
    "from datetime import datetime, timedelta"
   ]
  },
  {
   "cell_type": "code",
   "execution_count": 91,
   "metadata": {},
   "outputs": [],
   "source": [
    "from imblearn.over_sampling import RandomOverSampler\n",
    "from imblearn.under_sampling import RandomUnderSampler\n",
    "from imblearn.ensemble import BalancedRandomForestClassifier\n",
    "from sklearn.metrics import precision_recall_curve"
   ]
  },
  {
   "cell_type": "markdown",
   "metadata": {},
   "source": [
    "Dataset 'snow_data.csv' extracted from part-1 is used for part-2. As mentioned in the task, date has been formatted to \n",
    "YYYY-MM-DD. "
   ]
  },
  {
   "cell_type": "code",
   "execution_count": 19,
   "metadata": {},
   "outputs": [],
   "source": [
    "# Load the dataset, convert to dataframe\n",
    "data = pd.read_csv('snow_data.csv')\n",
    "\n",
    "# Convert date columns to YYYY-MM-DD format\n",
    "data['date'] = pd.to_datetime(data[['year', 'month', 'day']], errors='coerce')\n",
    "data.drop(['year', 'month', 'day'], axis=1, inplace=True)"
   ]
  },
  {
   "cell_type": "markdown",
   "metadata": {},
   "source": [
    "# DATA EXPLORATION - IS DATA IMBALANCED?"
   ]
  },
  {
   "cell_type": "code",
   "execution_count": 20,
   "metadata": {},
   "outputs": [
    {
     "name": "stdout",
     "output_type": "stream",
     "text": [
      "Snow Class Distribution:\n",
      "snow\n",
      "False    338037\n",
      "True      39747\n",
      "Name: count, dtype: int64\n",
      "\n",
      "Proportions:\n",
      "snow\n",
      "False    0.894789\n",
      "True     0.105211\n",
      "Name: count, dtype: float64\n"
     ]
    }
   ],
   "source": [
    "# Count the occurrences of each class in the 'snow' column\n",
    "snow_counts = data['snow'].value_counts()\n",
    "\n",
    "# Calculate the proportion of each class\n",
    "snow_proportions = snow_counts / len(data)\n",
    "\n",
    "print(\"Snow Class Distribution:\")\n",
    "print(snow_counts)\n",
    "print(\"\\nProportions:\")\n",
    "print(snow_proportions)\n",
    "\n",
    "\n",
    "#Yes, the classes in the dataset are indeed imbalanced:\n",
    "\n",
    "#Class '0.0' (No snow) constitutes approximately 89.48% of the dataset.\n",
    "#Class '1.0' (Snow) constitutes approximately 10.52% of the dataset."
   ]
  },
  {
   "cell_type": "code",
   "execution_count": 21,
   "metadata": {},
   "outputs": [
    {
     "data": {
      "text/html": [
       "<div>\n",
       "<style scoped>\n",
       "    .dataframe tbody tr th:only-of-type {\n",
       "        vertical-align: middle;\n",
       "    }\n",
       "\n",
       "    .dataframe tbody tr th {\n",
       "        vertical-align: top;\n",
       "    }\n",
       "\n",
       "    .dataframe thead th {\n",
       "        text-align: right;\n",
       "    }\n",
       "</style>\n",
       "<table border=\"1\" class=\"dataframe\">\n",
       "  <thead>\n",
       "    <tr style=\"text-align: right;\">\n",
       "      <th></th>\n",
       "      <th>station_number</th>\n",
       "      <th>wban_number</th>\n",
       "      <th>mean_temp</th>\n",
       "      <th>num_mean_temp_samples</th>\n",
       "      <th>mean_dew_point</th>\n",
       "      <th>num_mean_dew_point_samples</th>\n",
       "      <th>mean_sealevel_pressure</th>\n",
       "      <th>num_mean_sealevel_pressure_samples</th>\n",
       "      <th>mean_station_pressure</th>\n",
       "      <th>num_mean_station_pressure_samples</th>\n",
       "      <th>...</th>\n",
       "      <th>min_temperature_explicit</th>\n",
       "      <th>total_precipitation</th>\n",
       "      <th>snow_depth</th>\n",
       "      <th>fog</th>\n",
       "      <th>rain</th>\n",
       "      <th>snow</th>\n",
       "      <th>hail</th>\n",
       "      <th>thunder</th>\n",
       "      <th>tornado</th>\n",
       "      <th>date</th>\n",
       "    </tr>\n",
       "  </thead>\n",
       "  <tbody>\n",
       "    <tr>\n",
       "      <th>0</th>\n",
       "      <td>725464</td>\n",
       "      <td>99999</td>\n",
       "      <td>61.200001</td>\n",
       "      <td>4</td>\n",
       "      <td>28.000000</td>\n",
       "      <td>4.0</td>\n",
       "      <td>NaN</td>\n",
       "      <td>NaN</td>\n",
       "      <td>NaN</td>\n",
       "      <td>NaN</td>\n",
       "      <td>...</td>\n",
       "      <td>NaN</td>\n",
       "      <td>0.00</td>\n",
       "      <td>NaN</td>\n",
       "      <td>False</td>\n",
       "      <td>False</td>\n",
       "      <td>False</td>\n",
       "      <td>False</td>\n",
       "      <td>False</td>\n",
       "      <td>False</td>\n",
       "      <td>2005-11-01</td>\n",
       "    </tr>\n",
       "    <tr>\n",
       "      <th>1</th>\n",
       "      <td>725869</td>\n",
       "      <td>99999</td>\n",
       "      <td>67.599998</td>\n",
       "      <td>4</td>\n",
       "      <td>39.700001</td>\n",
       "      <td>4.0</td>\n",
       "      <td>NaN</td>\n",
       "      <td>NaN</td>\n",
       "      <td>NaN</td>\n",
       "      <td>NaN</td>\n",
       "      <td>...</td>\n",
       "      <td>NaN</td>\n",
       "      <td>0.00</td>\n",
       "      <td>NaN</td>\n",
       "      <td>False</td>\n",
       "      <td>False</td>\n",
       "      <td>False</td>\n",
       "      <td>False</td>\n",
       "      <td>False</td>\n",
       "      <td>False</td>\n",
       "      <td>2005-07-27</td>\n",
       "    </tr>\n",
       "    <tr>\n",
       "      <th>2</th>\n",
       "      <td>725940</td>\n",
       "      <td>99999</td>\n",
       "      <td>47.200001</td>\n",
       "      <td>4</td>\n",
       "      <td>41.299999</td>\n",
       "      <td>4.0</td>\n",
       "      <td>1020.500000</td>\n",
       "      <td>4.0</td>\n",
       "      <td>1017.599976</td>\n",
       "      <td>4.0</td>\n",
       "      <td>...</td>\n",
       "      <td>NaN</td>\n",
       "      <td>0.00</td>\n",
       "      <td>NaN</td>\n",
       "      <td>False</td>\n",
       "      <td>False</td>\n",
       "      <td>False</td>\n",
       "      <td>False</td>\n",
       "      <td>False</td>\n",
       "      <td>False</td>\n",
       "      <td>2005-12-12</td>\n",
       "    </tr>\n",
       "    <tr>\n",
       "      <th>3</th>\n",
       "      <td>725940</td>\n",
       "      <td>99999</td>\n",
       "      <td>50.400002</td>\n",
       "      <td>4</td>\n",
       "      <td>46.000000</td>\n",
       "      <td>4.0</td>\n",
       "      <td>1024.500000</td>\n",
       "      <td>4.0</td>\n",
       "      <td>1021.700012</td>\n",
       "      <td>4.0</td>\n",
       "      <td>...</td>\n",
       "      <td>NaN</td>\n",
       "      <td>0.14</td>\n",
       "      <td>NaN</td>\n",
       "      <td>False</td>\n",
       "      <td>False</td>\n",
       "      <td>False</td>\n",
       "      <td>False</td>\n",
       "      <td>False</td>\n",
       "      <td>False</td>\n",
       "      <td>2005-03-05</td>\n",
       "    </tr>\n",
       "    <tr>\n",
       "      <th>4</th>\n",
       "      <td>725525</td>\n",
       "      <td>99999</td>\n",
       "      <td>85.099998</td>\n",
       "      <td>4</td>\n",
       "      <td>61.700001</td>\n",
       "      <td>4.0</td>\n",
       "      <td>1009.200012</td>\n",
       "      <td>4.0</td>\n",
       "      <td>NaN</td>\n",
       "      <td>NaN</td>\n",
       "      <td>...</td>\n",
       "      <td>NaN</td>\n",
       "      <td>0.00</td>\n",
       "      <td>NaN</td>\n",
       "      <td>False</td>\n",
       "      <td>False</td>\n",
       "      <td>False</td>\n",
       "      <td>False</td>\n",
       "      <td>False</td>\n",
       "      <td>False</td>\n",
       "      <td>2005-09-24</td>\n",
       "    </tr>\n",
       "  </tbody>\n",
       "</table>\n",
       "<p>5 rows × 29 columns</p>\n",
       "</div>"
      ],
      "text/plain": [
       "   station_number  wban_number  mean_temp  num_mean_temp_samples  \\\n",
       "0          725464        99999  61.200001                      4   \n",
       "1          725869        99999  67.599998                      4   \n",
       "2          725940        99999  47.200001                      4   \n",
       "3          725940        99999  50.400002                      4   \n",
       "4          725525        99999  85.099998                      4   \n",
       "\n",
       "   mean_dew_point  num_mean_dew_point_samples  mean_sealevel_pressure  \\\n",
       "0       28.000000                         4.0                     NaN   \n",
       "1       39.700001                         4.0                     NaN   \n",
       "2       41.299999                         4.0             1020.500000   \n",
       "3       46.000000                         4.0             1024.500000   \n",
       "4       61.700001                         4.0             1009.200012   \n",
       "\n",
       "   num_mean_sealevel_pressure_samples  mean_station_pressure  \\\n",
       "0                                 NaN                    NaN   \n",
       "1                                 NaN                    NaN   \n",
       "2                                 4.0            1017.599976   \n",
       "3                                 4.0            1021.700012   \n",
       "4                                 4.0                    NaN   \n",
       "\n",
       "   num_mean_station_pressure_samples  ...  min_temperature_explicit  \\\n",
       "0                                NaN  ...                       NaN   \n",
       "1                                NaN  ...                       NaN   \n",
       "2                                4.0  ...                       NaN   \n",
       "3                                4.0  ...                       NaN   \n",
       "4                                NaN  ...                       NaN   \n",
       "\n",
       "   total_precipitation  snow_depth    fog   rain   snow   hail thunder  \\\n",
       "0                 0.00         NaN  False  False  False  False   False   \n",
       "1                 0.00         NaN  False  False  False  False   False   \n",
       "2                 0.00         NaN  False  False  False  False   False   \n",
       "3                 0.14         NaN  False  False  False  False   False   \n",
       "4                 0.00         NaN  False  False  False  False   False   \n",
       "\n",
       "   tornado       date  \n",
       "0    False 2005-11-01  \n",
       "1    False 2005-07-27  \n",
       "2    False 2005-12-12  \n",
       "3    False 2005-03-05  \n",
       "4    False 2005-09-24  \n",
       "\n",
       "[5 rows x 29 columns]"
      ]
     },
     "execution_count": 21,
     "metadata": {},
     "output_type": "execute_result"
    }
   ],
   "source": [
    "#Display the data\n",
    "\n",
    "data.head()"
   ]
  },
  {
   "cell_type": "markdown",
   "metadata": {},
   "source": [
    "# DATA ANALYSIS"
   ]
  },
  {
   "cell_type": "code",
   "execution_count": 22,
   "metadata": {},
   "outputs": [
    {
     "name": "stdout",
     "output_type": "stream",
     "text": [
      "<class 'pandas.core.frame.DataFrame'>\n",
      "RangeIndex: 377784 entries, 0 to 377783\n",
      "Data columns (total 29 columns):\n",
      " #   Column                              Non-Null Count   Dtype         \n",
      "---  ------                              --------------   -----         \n",
      " 0   station_number                      377784 non-null  int64         \n",
      " 1   wban_number                         377784 non-null  int64         \n",
      " 2   mean_temp                           377784 non-null  float64       \n",
      " 3   num_mean_temp_samples               377784 non-null  int64         \n",
      " 4   mean_dew_point                      377626 non-null  float64       \n",
      " 5   num_mean_dew_point_samples          377626 non-null  float64       \n",
      " 6   mean_sealevel_pressure              231937 non-null  float64       \n",
      " 7   num_mean_sealevel_pressure_samples  231937 non-null  float64       \n",
      " 8   mean_station_pressure               8715 non-null    float64       \n",
      " 9   num_mean_station_pressure_samples   8715 non-null    float64       \n",
      " 10  mean_visibility                     368105 non-null  float64       \n",
      " 11  num_mean_visibility_samples         368105 non-null  float64       \n",
      " 12  mean_wind_speed                     377424 non-null  float64       \n",
      " 13  num_mean_wind_speed_samples         377424 non-null  float64       \n",
      " 14  max_sustained_wind_speed            376692 non-null  float64       \n",
      " 15  max_gust_wind_speed                 246885 non-null  float64       \n",
      " 16  max_temperature                     377686 non-null  float64       \n",
      " 17  max_temperature_explicit            377686 non-null  object        \n",
      " 18  min_temperature                     0 non-null       float64       \n",
      " 19  min_temperature_explicit            0 non-null       float64       \n",
      " 20  total_precipitation                 332440 non-null  float64       \n",
      " 21  snow_depth                          6695 non-null    float64       \n",
      " 22  fog                                 377784 non-null  bool          \n",
      " 23  rain                                377784 non-null  bool          \n",
      " 24  snow                                377784 non-null  bool          \n",
      " 25  hail                                377784 non-null  bool          \n",
      " 26  thunder                             377784 non-null  bool          \n",
      " 27  tornado                             377784 non-null  bool          \n",
      " 28  date                                377784 non-null  datetime64[ns]\n",
      "dtypes: bool(6), datetime64[ns](1), float64(18), int64(3), object(1)\n",
      "memory usage: 68.5+ MB\n"
     ]
    }
   ],
   "source": [
    "#Data analysis,if any null values, datatypes, etc\n",
    "\n",
    "data.info()                   "
   ]
  },
  {
   "cell_type": "markdown",
   "metadata": {},
   "source": [
    "min_temperature,min_temperature_explicit contains null values, also max_temperature_explicit is of object datatype  "
   ]
  },
  {
   "cell_type": "code",
   "execution_count": 23,
   "metadata": {},
   "outputs": [
    {
     "data": {
      "text/html": [
       "<div>\n",
       "<style scoped>\n",
       "    .dataframe tbody tr th:only-of-type {\n",
       "        vertical-align: middle;\n",
       "    }\n",
       "\n",
       "    .dataframe tbody tr th {\n",
       "        vertical-align: top;\n",
       "    }\n",
       "\n",
       "    .dataframe thead th {\n",
       "        text-align: right;\n",
       "    }\n",
       "</style>\n",
       "<table border=\"1\" class=\"dataframe\">\n",
       "  <thead>\n",
       "    <tr style=\"text-align: right;\">\n",
       "      <th></th>\n",
       "      <th>station_number</th>\n",
       "      <th>wban_number</th>\n",
       "      <th>mean_temp</th>\n",
       "      <th>num_mean_temp_samples</th>\n",
       "      <th>mean_dew_point</th>\n",
       "      <th>num_mean_dew_point_samples</th>\n",
       "      <th>mean_sealevel_pressure</th>\n",
       "      <th>num_mean_sealevel_pressure_samples</th>\n",
       "      <th>mean_station_pressure</th>\n",
       "      <th>num_mean_station_pressure_samples</th>\n",
       "      <th>...</th>\n",
       "      <th>mean_wind_speed</th>\n",
       "      <th>num_mean_wind_speed_samples</th>\n",
       "      <th>max_sustained_wind_speed</th>\n",
       "      <th>max_gust_wind_speed</th>\n",
       "      <th>max_temperature</th>\n",
       "      <th>min_temperature</th>\n",
       "      <th>min_temperature_explicit</th>\n",
       "      <th>total_precipitation</th>\n",
       "      <th>snow_depth</th>\n",
       "      <th>date</th>\n",
       "    </tr>\n",
       "  </thead>\n",
       "  <tbody>\n",
       "    <tr>\n",
       "      <th>count</th>\n",
       "      <td>377784.000000</td>\n",
       "      <td>377784.000000</td>\n",
       "      <td>377784.000000</td>\n",
       "      <td>377784.000000</td>\n",
       "      <td>377626.000000</td>\n",
       "      <td>377626.000000</td>\n",
       "      <td>231937.000000</td>\n",
       "      <td>231937.000000</td>\n",
       "      <td>8715.000000</td>\n",
       "      <td>8715.000000</td>\n",
       "      <td>...</td>\n",
       "      <td>377424.000000</td>\n",
       "      <td>377424.000000</td>\n",
       "      <td>376692.000000</td>\n",
       "      <td>246885.000000</td>\n",
       "      <td>377686.000000</td>\n",
       "      <td>0.0</td>\n",
       "      <td>0.0</td>\n",
       "      <td>332440.000000</td>\n",
       "      <td>6695.000000</td>\n",
       "      <td>377784</td>\n",
       "    </tr>\n",
       "    <tr>\n",
       "      <th>mean</th>\n",
       "      <td>725646.806572</td>\n",
       "      <td>67781.067126</td>\n",
       "      <td>48.626222</td>\n",
       "      <td>23.113118</td>\n",
       "      <td>36.668910</td>\n",
       "      <td>23.100862</td>\n",
       "      <td>1016.338527</td>\n",
       "      <td>21.443349</td>\n",
       "      <td>992.858669</td>\n",
       "      <td>18.924269</td>\n",
       "      <td>...</td>\n",
       "      <td>6.944941</td>\n",
       "      <td>23.094859</td>\n",
       "      <td>14.255487</td>\n",
       "      <td>23.519782</td>\n",
       "      <td>38.420422</td>\n",
       "      <td>NaN</td>\n",
       "      <td>NaN</td>\n",
       "      <td>0.066410</td>\n",
       "      <td>6.391830</td>\n",
       "      <td>2007-06-30 18:01:32.853058816</td>\n",
       "    </tr>\n",
       "    <tr>\n",
       "      <th>min</th>\n",
       "      <td>725300.000000</td>\n",
       "      <td>3016.000000</td>\n",
       "      <td>-28.299999</td>\n",
       "      <td>4.000000</td>\n",
       "      <td>-30.799999</td>\n",
       "      <td>4.000000</td>\n",
       "      <td>974.500000</td>\n",
       "      <td>4.000000</td>\n",
       "      <td>803.400024</td>\n",
       "      <td>4.000000</td>\n",
       "      <td>...</td>\n",
       "      <td>0.000000</td>\n",
       "      <td>4.000000</td>\n",
       "      <td>1.900000</td>\n",
       "      <td>9.900000</td>\n",
       "      <td>-38.900002</td>\n",
       "      <td>NaN</td>\n",
       "      <td>NaN</td>\n",
       "      <td>0.000000</td>\n",
       "      <td>0.800000</td>\n",
       "      <td>2005-01-01 00:00:00</td>\n",
       "    </tr>\n",
       "    <tr>\n",
       "      <th>25%</th>\n",
       "      <td>725434.000000</td>\n",
       "      <td>24027.000000</td>\n",
       "      <td>34.000000</td>\n",
       "      <td>24.000000</td>\n",
       "      <td>23.799999</td>\n",
       "      <td>24.000000</td>\n",
       "      <td>1011.599976</td>\n",
       "      <td>20.000000</td>\n",
       "      <td>983.599976</td>\n",
       "      <td>18.000000</td>\n",
       "      <td>...</td>\n",
       "      <td>4.100000</td>\n",
       "      <td>24.000000</td>\n",
       "      <td>9.900000</td>\n",
       "      <td>18.100000</td>\n",
       "      <td>26.100000</td>\n",
       "      <td>NaN</td>\n",
       "      <td>NaN</td>\n",
       "      <td>0.000000</td>\n",
       "      <td>2.000000</td>\n",
       "      <td>2006-03-31 00:00:00</td>\n",
       "    </tr>\n",
       "    <tr>\n",
       "      <th>50%</th>\n",
       "      <td>725527.000000</td>\n",
       "      <td>99999.000000</td>\n",
       "      <td>49.500000</td>\n",
       "      <td>24.000000</td>\n",
       "      <td>35.799999</td>\n",
       "      <td>24.000000</td>\n",
       "      <td>1016.000000</td>\n",
       "      <td>23.000000</td>\n",
       "      <td>993.599976</td>\n",
       "      <td>24.000000</td>\n",
       "      <td>...</td>\n",
       "      <td>6.300000</td>\n",
       "      <td>24.000000</td>\n",
       "      <td>13.000000</td>\n",
       "      <td>22.000000</td>\n",
       "      <td>39.000000</td>\n",
       "      <td>NaN</td>\n",
       "      <td>NaN</td>\n",
       "      <td>0.000000</td>\n",
       "      <td>3.900000</td>\n",
       "      <td>2007-06-29 00:00:00</td>\n",
       "    </tr>\n",
       "    <tr>\n",
       "      <th>75%</th>\n",
       "      <td>725846.000000</td>\n",
       "      <td>99999.000000</td>\n",
       "      <td>65.300003</td>\n",
       "      <td>24.000000</td>\n",
       "      <td>51.299999</td>\n",
       "      <td>24.000000</td>\n",
       "      <td>1020.900024</td>\n",
       "      <td>24.000000</td>\n",
       "      <td>1007.400024</td>\n",
       "      <td>24.000000</td>\n",
       "      <td>...</td>\n",
       "      <td>9.000000</td>\n",
       "      <td>24.000000</td>\n",
       "      <td>17.100000</td>\n",
       "      <td>27.000000</td>\n",
       "      <td>53.599998</td>\n",
       "      <td>NaN</td>\n",
       "      <td>NaN</td>\n",
       "      <td>0.010000</td>\n",
       "      <td>7.900000</td>\n",
       "      <td>2008-09-30 00:00:00</td>\n",
       "    </tr>\n",
       "    <tr>\n",
       "      <th>max</th>\n",
       "      <td>726284.000000</td>\n",
       "      <td>99999.000000</td>\n",
       "      <td>108.300003</td>\n",
       "      <td>24.000000</td>\n",
       "      <td>81.300003</td>\n",
       "      <td>24.000000</td>\n",
       "      <td>1053.000000</td>\n",
       "      <td>24.000000</td>\n",
       "      <td>1035.699951</td>\n",
       "      <td>24.000000</td>\n",
       "      <td>...</td>\n",
       "      <td>87.400002</td>\n",
       "      <td>24.000000</td>\n",
       "      <td>96.900002</td>\n",
       "      <td>135.000000</td>\n",
       "      <td>127.400002</td>\n",
       "      <td>NaN</td>\n",
       "      <td>NaN</td>\n",
       "      <td>13.360000</td>\n",
       "      <td>61.799999</td>\n",
       "      <td>2009-12-31 00:00:00</td>\n",
       "    </tr>\n",
       "    <tr>\n",
       "      <th>std</th>\n",
       "      <td>271.762542</td>\n",
       "      <td>39747.917040</td>\n",
       "      <td>19.443145</td>\n",
       "      <td>3.111862</td>\n",
       "      <td>18.111384</td>\n",
       "      <td>3.124831</td>\n",
       "      <td>7.523333</td>\n",
       "      <td>3.835211</td>\n",
       "      <td>22.337362</td>\n",
       "      <td>8.236492</td>\n",
       "      <td>...</td>\n",
       "      <td>4.240589</td>\n",
       "      <td>3.126000</td>\n",
       "      <td>6.269371</td>\n",
       "      <td>7.389783</td>\n",
       "      <td>18.745335</td>\n",
       "      <td>NaN</td>\n",
       "      <td>NaN</td>\n",
       "      <td>0.237805</td>\n",
       "      <td>6.751067</td>\n",
       "      <td>NaN</td>\n",
       "    </tr>\n",
       "  </tbody>\n",
       "</table>\n",
       "<p>8 rows × 22 columns</p>\n",
       "</div>"
      ],
      "text/plain": [
       "       station_number    wban_number      mean_temp  num_mean_temp_samples  \\\n",
       "count   377784.000000  377784.000000  377784.000000          377784.000000   \n",
       "mean    725646.806572   67781.067126      48.626222              23.113118   \n",
       "min     725300.000000    3016.000000     -28.299999               4.000000   \n",
       "25%     725434.000000   24027.000000      34.000000              24.000000   \n",
       "50%     725527.000000   99999.000000      49.500000              24.000000   \n",
       "75%     725846.000000   99999.000000      65.300003              24.000000   \n",
       "max     726284.000000   99999.000000     108.300003              24.000000   \n",
       "std        271.762542   39747.917040      19.443145               3.111862   \n",
       "\n",
       "       mean_dew_point  num_mean_dew_point_samples  mean_sealevel_pressure  \\\n",
       "count   377626.000000               377626.000000           231937.000000   \n",
       "mean        36.668910                   23.100862             1016.338527   \n",
       "min        -30.799999                    4.000000              974.500000   \n",
       "25%         23.799999                   24.000000             1011.599976   \n",
       "50%         35.799999                   24.000000             1016.000000   \n",
       "75%         51.299999                   24.000000             1020.900024   \n",
       "max         81.300003                   24.000000             1053.000000   \n",
       "std         18.111384                    3.124831                7.523333   \n",
       "\n",
       "       num_mean_sealevel_pressure_samples  mean_station_pressure  \\\n",
       "count                       231937.000000            8715.000000   \n",
       "mean                            21.443349             992.858669   \n",
       "min                              4.000000             803.400024   \n",
       "25%                             20.000000             983.599976   \n",
       "50%                             23.000000             993.599976   \n",
       "75%                             24.000000            1007.400024   \n",
       "max                             24.000000            1035.699951   \n",
       "std                              3.835211              22.337362   \n",
       "\n",
       "       num_mean_station_pressure_samples  ...  mean_wind_speed  \\\n",
       "count                        8715.000000  ...    377424.000000   \n",
       "mean                           18.924269  ...         6.944941   \n",
       "min                             4.000000  ...         0.000000   \n",
       "25%                            18.000000  ...         4.100000   \n",
       "50%                            24.000000  ...         6.300000   \n",
       "75%                            24.000000  ...         9.000000   \n",
       "max                            24.000000  ...        87.400002   \n",
       "std                             8.236492  ...         4.240589   \n",
       "\n",
       "       num_mean_wind_speed_samples  max_sustained_wind_speed  \\\n",
       "count                377424.000000             376692.000000   \n",
       "mean                     23.094859                 14.255487   \n",
       "min                       4.000000                  1.900000   \n",
       "25%                      24.000000                  9.900000   \n",
       "50%                      24.000000                 13.000000   \n",
       "75%                      24.000000                 17.100000   \n",
       "max                      24.000000                 96.900002   \n",
       "std                       3.126000                  6.269371   \n",
       "\n",
       "       max_gust_wind_speed  max_temperature  min_temperature  \\\n",
       "count        246885.000000    377686.000000              0.0   \n",
       "mean             23.519782        38.420422              NaN   \n",
       "min               9.900000       -38.900002              NaN   \n",
       "25%              18.100000        26.100000              NaN   \n",
       "50%              22.000000        39.000000              NaN   \n",
       "75%              27.000000        53.599998              NaN   \n",
       "max             135.000000       127.400002              NaN   \n",
       "std               7.389783        18.745335              NaN   \n",
       "\n",
       "       min_temperature_explicit  total_precipitation   snow_depth  \\\n",
       "count                       0.0        332440.000000  6695.000000   \n",
       "mean                        NaN             0.066410     6.391830   \n",
       "min                         NaN             0.000000     0.800000   \n",
       "25%                         NaN             0.000000     2.000000   \n",
       "50%                         NaN             0.000000     3.900000   \n",
       "75%                         NaN             0.010000     7.900000   \n",
       "max                         NaN            13.360000    61.799999   \n",
       "std                         NaN             0.237805     6.751067   \n",
       "\n",
       "                                date  \n",
       "count                         377784  \n",
       "mean   2007-06-30 18:01:32.853058816  \n",
       "min              2005-01-01 00:00:00  \n",
       "25%              2006-03-31 00:00:00  \n",
       "50%              2007-06-29 00:00:00  \n",
       "75%              2008-09-30 00:00:00  \n",
       "max              2009-12-31 00:00:00  \n",
       "std                              NaN  \n",
       "\n",
       "[8 rows x 22 columns]"
      ]
     },
     "execution_count": 23,
     "metadata": {},
     "output_type": "execute_result"
    }
   ],
   "source": [
    "#Check the statistics of dataset\n",
    "\n",
    "data.describe()"
   ]
  },
  {
   "cell_type": "markdown",
   "metadata": {},
   "source": [
    "From statistics, it can been seen that average of number of samples for various features are almost near to 24 "
   ]
  },
  {
   "cell_type": "markdown",
   "metadata": {},
   "source": [
    "# DATA PRE-PROCESSING"
   ]
  },
  {
   "cell_type": "code",
   "execution_count": 24,
   "metadata": {},
   "outputs": [
    {
     "name": "stdout",
     "output_type": "stream",
     "text": [
      "numeric cls Index(['station_number', 'wban_number', 'mean_temp', 'num_mean_temp_samples',\n",
      "       'mean_dew_point', 'num_mean_dew_point_samples',\n",
      "       'mean_sealevel_pressure', 'num_mean_sealevel_pressure_samples',\n",
      "       'mean_station_pressure', 'num_mean_station_pressure_samples',\n",
      "       'mean_visibility', 'num_mean_visibility_samples', 'mean_wind_speed',\n",
      "       'num_mean_wind_speed_samples', 'max_sustained_wind_speed',\n",
      "       'max_gust_wind_speed', 'max_temperature', 'min_temperature',\n",
      "       'min_temperature_explicit', 'total_precipitation', 'snow_depth'],\n",
      "      dtype='object')\n",
      "NaNs in each numeric column before handling:\n",
      " station_number                             0\n",
      "wban_number                                0\n",
      "mean_temp                                  0\n",
      "num_mean_temp_samples                      0\n",
      "mean_dew_point                           158\n",
      "num_mean_dew_point_samples               158\n",
      "mean_sealevel_pressure                145847\n",
      "num_mean_sealevel_pressure_samples    145847\n",
      "mean_station_pressure                 369069\n",
      "num_mean_station_pressure_samples     369069\n",
      "mean_visibility                         9679\n",
      "num_mean_visibility_samples             9679\n",
      "mean_wind_speed                          360\n",
      "num_mean_wind_speed_samples              360\n",
      "max_sustained_wind_speed                1092\n",
      "max_gust_wind_speed                   130899\n",
      "max_temperature                           98\n",
      "min_temperature                       377784\n",
      "min_temperature_explicit              377784\n",
      "total_precipitation                    45344\n",
      "snow_depth                            371089\n",
      "dtype: int64\n",
      "Infinite values in each numeric column before handling:\n",
      " station_number                        0\n",
      "wban_number                           0\n",
      "mean_temp                             0\n",
      "num_mean_temp_samples                 0\n",
      "mean_dew_point                        0\n",
      "num_mean_dew_point_samples            0\n",
      "mean_sealevel_pressure                0\n",
      "num_mean_sealevel_pressure_samples    0\n",
      "mean_station_pressure                 0\n",
      "num_mean_station_pressure_samples     0\n",
      "mean_visibility                       0\n",
      "num_mean_visibility_samples           0\n",
      "mean_wind_speed                       0\n",
      "num_mean_wind_speed_samples           0\n",
      "max_sustained_wind_speed              0\n",
      "max_gust_wind_speed                   0\n",
      "max_temperature                       0\n",
      "min_temperature                       0\n",
      "min_temperature_explicit              0\n",
      "total_precipitation                   0\n",
      "snow_depth                            0\n",
      "dtype: int64\n",
      "Excessively large values in each numeric column:\n",
      " station_number                        0\n",
      "wban_number                           0\n",
      "mean_temp                             0\n",
      "num_mean_temp_samples                 0\n",
      "mean_dew_point                        0\n",
      "num_mean_dew_point_samples            0\n",
      "mean_sealevel_pressure                0\n",
      "num_mean_sealevel_pressure_samples    0\n",
      "mean_station_pressure                 0\n",
      "num_mean_station_pressure_samples     0\n",
      "mean_visibility                       0\n",
      "num_mean_visibility_samples           0\n",
      "mean_wind_speed                       0\n",
      "num_mean_wind_speed_samples           0\n",
      "max_sustained_wind_speed              0\n",
      "max_gust_wind_speed                   0\n",
      "max_temperature                       0\n",
      "min_temperature                       0\n",
      "min_temperature_explicit              0\n",
      "total_precipitation                   0\n",
      "snow_depth                            0\n",
      "dtype: int64\n"
     ]
    }
   ],
   "source": [
    "# Identify numeric columns\n",
    "numeric_cols = data.select_dtypes(include=[np.number]).columns\n",
    "print('numeric cls', numeric_cols)\n",
    "\n",
    "# Check for NaNs in numeric columns\n",
    "nan_check = data[numeric_cols].isna().sum()\n",
    "print(\"NaNs in each numeric column before handling:\\n\", nan_check)\n",
    "\n",
    "\n",
    "# Check for infinite values in numeric columns\n",
    "inf_check = np.isinf(data[numeric_cols]).sum()\n",
    "print(\"Infinite values in each numeric column before handling:\\n\", inf_check)\n",
    "\n",
    "# Check for excessively large values\n",
    "threshold = np.finfo(np.float32).max\n",
    "large_values_check = (data[numeric_cols] > threshold).sum()\n",
    "print(\"Excessively large values in each numeric column:\\n\", large_values_check)"
   ]
  },
  {
   "cell_type": "markdown",
   "metadata": {},
   "source": [
    "From the above information as per my knowledge it's understood that mean_sealevel_pressure,mean_station_pressure,\n",
    "max_gust_wind_speed,min_temperature,min_temperature_explicit,snow_depth have a majority of null values\n",
    "which doesn't give any relevant information. Also, max_temperature_explicit is a flag with either \n",
    "true or false which doesn't provide any detailing. Hence all these columns are meant to be discarded.\n",
    "\n",
    "Although snow_depth seems to give some relevant information about snow, but from the analysis, it's clear that \n",
    "this might cause false positives (when snow is false, snow_depth is having value, and vice versa)"
   ]
  },
  {
   "cell_type": "markdown",
   "metadata": {},
   "source": [
    "From analysing the data it's clear that the unique id for this data is the combination of station number and date"
   ]
  },
  {
   "cell_type": "code",
   "execution_count": 25,
   "metadata": {},
   "outputs": [],
   "source": [
    "#sorting them for forecasting\n",
    "\n",
    "data.sort_values(by=['station_number', 'date'], inplace=True)"
   ]
  },
  {
   "cell_type": "code",
   "execution_count": 26,
   "metadata": {},
   "outputs": [],
   "source": [
    "#Feature selection for preparing the final dataset.\n",
    "\n",
    "selected_features = [\n",
    "     'mean_temp', 'mean_dew_point', \n",
    "    'mean_visibility', 'mean_wind_speed',\n",
    "    'max_temperature','total_precipitation'\n",
    "]\n",
    "\n",
    "\n",
    "selected_flag_features = [\n",
    "     'fog', 'rain', 'snow', \n",
    "    'hail', 'thunder','tornado'\n",
    "]"
   ]
  },
  {
   "cell_type": "markdown",
   "metadata": {},
   "source": [
    "These are the features which I selected for the task as per the analysis"
   ]
  },
  {
   "cell_type": "markdown",
   "metadata": {},
   "source": [
    "# DATA PREPARATION - feature engineering"
   ]
  },
  {
   "cell_type": "code",
   "execution_count": 27,
   "metadata": {},
   "outputs": [],
   "source": [
    "# Create a list to store result rows\n",
    "result_list = []\n",
    "\n",
    "\n",
    "# Iterate over each station\n",
    "for station_number, station_data in data.groupby('station_number'):\n",
    "    \n",
    "    # Iterate over each date within the station's data\n",
    "    for i in range(len(station_data)):\n",
    "        prediction_date = station_data.iloc[i]['date']\n",
    "        \n",
    "        # Calculate average temperature of past 7 days\n",
    "        start_date = prediction_date - pd.DateOffset(days=7)\n",
    "        end_date = prediction_date - pd.DateOffset(days=1)\n",
    "        \n",
    "        # Prepare a dictionary to store the result for the current row\n",
    "        result_row = {\n",
    "            'station_number': station_number,\n",
    "            'date': prediction_date\n",
    "        }\n",
    "        \n",
    "        \n",
    "        # Filter dates within the past 7 days range and belonging to the same station\n",
    "        past_week_data = station_data[(station_data['date'] >= start_date) &\n",
    "                                      (station_data['date'] <= end_date)]\n",
    "        \n",
    "        past_day_data = station_data[(station_data['date'] == end_date)]\n",
    "        actual_date_data = station_data[(station_data['date'] == prediction_date)]\n",
    "        snow_today = actual_date_data['snow'].sum()\n",
    "        result_row['snow_today'] = snow_today\n",
    "        \n",
    " \n",
    "        # Count the number of True flags for each specified column\n",
    "        for column in selected_flag_features:\n",
    "            true_count_past_7_days = past_week_data['snow'].sum()\n",
    "            true_count_last_day = past_day_data['snow'].sum()\n",
    "            result_row[f'{column}_count_past_7_days'] = true_count_past_7_days\n",
    "            result_row[f'{column}_count_last_day'] = true_count_last_day\n",
    "            \n",
    "             \n",
    "        # Calculate average for each specified column\n",
    "        for column in selected_features:\n",
    "            \n",
    "            avg_temp_past_7_days = past_week_data[column].mean()\n",
    "            past_day_temp = past_day_data[column].mean()\n",
    "            result_row[f'{column}_past_7_days'] = avg_temp_past_7_days\n",
    "            result_row[f'{column}_past_day'] = past_day_temp      \n",
    "        \n",
    "        # Append the result to result_list\n",
    "        result_list.append(result_row)\n",
    "\n",
    "# Convert the result list to a DataFrame\n",
    "result_snow_data = pd.DataFrame(result_list)\n"
   ]
  },
  {
   "cell_type": "code",
   "execution_count": 28,
   "metadata": {},
   "outputs": [
    {
     "data": {
      "text/html": [
       "<div>\n",
       "<style scoped>\n",
       "    .dataframe tbody tr th:only-of-type {\n",
       "        vertical-align: middle;\n",
       "    }\n",
       "\n",
       "    .dataframe tbody tr th {\n",
       "        vertical-align: top;\n",
       "    }\n",
       "\n",
       "    .dataframe thead th {\n",
       "        text-align: right;\n",
       "    }\n",
       "</style>\n",
       "<table border=\"1\" class=\"dataframe\">\n",
       "  <thead>\n",
       "    <tr style=\"text-align: right;\">\n",
       "      <th></th>\n",
       "      <th>station_number</th>\n",
       "      <th>date</th>\n",
       "      <th>snow_today</th>\n",
       "      <th>fog_count_past_7_days</th>\n",
       "      <th>fog_count_last_day</th>\n",
       "      <th>rain_count_past_7_days</th>\n",
       "      <th>rain_count_last_day</th>\n",
       "      <th>snow_count_past_7_days</th>\n",
       "      <th>snow_count_last_day</th>\n",
       "      <th>hail_count_past_7_days</th>\n",
       "      <th>...</th>\n",
       "      <th>mean_dew_point_past_7_days</th>\n",
       "      <th>mean_dew_point_past_day</th>\n",
       "      <th>mean_visibility_past_7_days</th>\n",
       "      <th>mean_visibility_past_day</th>\n",
       "      <th>mean_wind_speed_past_7_days</th>\n",
       "      <th>mean_wind_speed_past_day</th>\n",
       "      <th>max_temperature_past_7_days</th>\n",
       "      <th>max_temperature_past_day</th>\n",
       "      <th>total_precipitation_past_7_days</th>\n",
       "      <th>total_precipitation_past_day</th>\n",
       "    </tr>\n",
       "  </thead>\n",
       "  <tbody>\n",
       "    <tr>\n",
       "      <th>0</th>\n",
       "      <td>725300</td>\n",
       "      <td>2005-01-01</td>\n",
       "      <td>0</td>\n",
       "      <td>0</td>\n",
       "      <td>0</td>\n",
       "      <td>0</td>\n",
       "      <td>0</td>\n",
       "      <td>0</td>\n",
       "      <td>0</td>\n",
       "      <td>0</td>\n",
       "      <td>...</td>\n",
       "      <td>NaN</td>\n",
       "      <td>NaN</td>\n",
       "      <td>NaN</td>\n",
       "      <td>NaN</td>\n",
       "      <td>NaN</td>\n",
       "      <td>NaN</td>\n",
       "      <td>NaN</td>\n",
       "      <td>NaN</td>\n",
       "      <td>NaN</td>\n",
       "      <td>NaN</td>\n",
       "    </tr>\n",
       "    <tr>\n",
       "      <th>1</th>\n",
       "      <td>725300</td>\n",
       "      <td>2005-01-02</td>\n",
       "      <td>1</td>\n",
       "      <td>0</td>\n",
       "      <td>0</td>\n",
       "      <td>0</td>\n",
       "      <td>0</td>\n",
       "      <td>0</td>\n",
       "      <td>0</td>\n",
       "      <td>0</td>\n",
       "      <td>...</td>\n",
       "      <td>21.200001</td>\n",
       "      <td>21.200001</td>\n",
       "      <td>9.900000</td>\n",
       "      <td>9.9</td>\n",
       "      <td>8.700000</td>\n",
       "      <td>8.7</td>\n",
       "      <td>24.799999</td>\n",
       "      <td>24.799999</td>\n",
       "      <td>0.000000</td>\n",
       "      <td>0.00</td>\n",
       "    </tr>\n",
       "    <tr>\n",
       "      <th>2</th>\n",
       "      <td>725300</td>\n",
       "      <td>2005-01-03</td>\n",
       "      <td>1</td>\n",
       "      <td>1</td>\n",
       "      <td>1</td>\n",
       "      <td>1</td>\n",
       "      <td>1</td>\n",
       "      <td>1</td>\n",
       "      <td>1</td>\n",
       "      <td>1</td>\n",
       "      <td>...</td>\n",
       "      <td>30.650000</td>\n",
       "      <td>40.099998</td>\n",
       "      <td>8.000000</td>\n",
       "      <td>6.1</td>\n",
       "      <td>9.050000</td>\n",
       "      <td>9.4</td>\n",
       "      <td>25.000000</td>\n",
       "      <td>25.200001</td>\n",
       "      <td>0.125000</td>\n",
       "      <td>0.25</td>\n",
       "    </tr>\n",
       "    <tr>\n",
       "      <th>3</th>\n",
       "      <td>725300</td>\n",
       "      <td>2005-01-04</td>\n",
       "      <td>1</td>\n",
       "      <td>2</td>\n",
       "      <td>1</td>\n",
       "      <td>2</td>\n",
       "      <td>1</td>\n",
       "      <td>2</td>\n",
       "      <td>1</td>\n",
       "      <td>2</td>\n",
       "      <td>...</td>\n",
       "      <td>30.966667</td>\n",
       "      <td>31.600000</td>\n",
       "      <td>7.433333</td>\n",
       "      <td>6.3</td>\n",
       "      <td>8.633333</td>\n",
       "      <td>7.8</td>\n",
       "      <td>27.699999</td>\n",
       "      <td>33.099998</td>\n",
       "      <td>0.113333</td>\n",
       "      <td>0.09</td>\n",
       "    </tr>\n",
       "    <tr>\n",
       "      <th>4</th>\n",
       "      <td>725300</td>\n",
       "      <td>2005-01-05</td>\n",
       "      <td>1</td>\n",
       "      <td>3</td>\n",
       "      <td>1</td>\n",
       "      <td>3</td>\n",
       "      <td>1</td>\n",
       "      <td>3</td>\n",
       "      <td>1</td>\n",
       "      <td>3</td>\n",
       "      <td>...</td>\n",
       "      <td>30.575000</td>\n",
       "      <td>29.400000</td>\n",
       "      <td>7.500000</td>\n",
       "      <td>7.7</td>\n",
       "      <td>8.800000</td>\n",
       "      <td>9.3</td>\n",
       "      <td>28.275000</td>\n",
       "      <td>30.000000</td>\n",
       "      <td>0.170000</td>\n",
       "      <td>0.34</td>\n",
       "    </tr>\n",
       "  </tbody>\n",
       "</table>\n",
       "<p>5 rows × 27 columns</p>\n",
       "</div>"
      ],
      "text/plain": [
       "   station_number       date  snow_today  fog_count_past_7_days  \\\n",
       "0          725300 2005-01-01           0                      0   \n",
       "1          725300 2005-01-02           1                      0   \n",
       "2          725300 2005-01-03           1                      1   \n",
       "3          725300 2005-01-04           1                      2   \n",
       "4          725300 2005-01-05           1                      3   \n",
       "\n",
       "   fog_count_last_day  rain_count_past_7_days  rain_count_last_day  \\\n",
       "0                   0                       0                    0   \n",
       "1                   0                       0                    0   \n",
       "2                   1                       1                    1   \n",
       "3                   1                       2                    1   \n",
       "4                   1                       3                    1   \n",
       "\n",
       "   snow_count_past_7_days  snow_count_last_day  hail_count_past_7_days  ...  \\\n",
       "0                       0                    0                       0  ...   \n",
       "1                       0                    0                       0  ...   \n",
       "2                       1                    1                       1  ...   \n",
       "3                       2                    1                       2  ...   \n",
       "4                       3                    1                       3  ...   \n",
       "\n",
       "   mean_dew_point_past_7_days  mean_dew_point_past_day  \\\n",
       "0                         NaN                      NaN   \n",
       "1                   21.200001                21.200001   \n",
       "2                   30.650000                40.099998   \n",
       "3                   30.966667                31.600000   \n",
       "4                   30.575000                29.400000   \n",
       "\n",
       "   mean_visibility_past_7_days  mean_visibility_past_day  \\\n",
       "0                          NaN                       NaN   \n",
       "1                     9.900000                       9.9   \n",
       "2                     8.000000                       6.1   \n",
       "3                     7.433333                       6.3   \n",
       "4                     7.500000                       7.7   \n",
       "\n",
       "   mean_wind_speed_past_7_days  mean_wind_speed_past_day  \\\n",
       "0                          NaN                       NaN   \n",
       "1                     8.700000                       8.7   \n",
       "2                     9.050000                       9.4   \n",
       "3                     8.633333                       7.8   \n",
       "4                     8.800000                       9.3   \n",
       "\n",
       "   max_temperature_past_7_days  max_temperature_past_day  \\\n",
       "0                          NaN                       NaN   \n",
       "1                    24.799999                 24.799999   \n",
       "2                    25.000000                 25.200001   \n",
       "3                    27.699999                 33.099998   \n",
       "4                    28.275000                 30.000000   \n",
       "\n",
       "   total_precipitation_past_7_days  total_precipitation_past_day  \n",
       "0                              NaN                           NaN  \n",
       "1                         0.000000                          0.00  \n",
       "2                         0.125000                          0.25  \n",
       "3                         0.113333                          0.09  \n",
       "4                         0.170000                          0.34  \n",
       "\n",
       "[5 rows x 27 columns]"
      ]
     },
     "execution_count": 28,
     "metadata": {},
     "output_type": "execute_result"
    }
   ],
   "source": [
    "result_snow_data.head()"
   ]
  },
  {
   "cell_type": "markdown",
   "metadata": {},
   "source": [
    "Here, first row data for each station contains null values as there is no previous day data. Hence, removing all first rows\n",
    "of each station from the dataset in the next step"
   ]
  },
  {
   "cell_type": "code",
   "execution_count": 29,
   "metadata": {},
   "outputs": [],
   "source": [
    "\n",
    "# Initialize an empty list to store modified DataFrames\n",
    "dfs = []\n",
    "\n",
    "# Iterate over each station\n",
    "for station_number, station_data in result_snow_data.groupby('station_number'):\n",
    "    \n",
    "    # Drop the first row for each station\n",
    "    modified_df = station_data.iloc[1:].copy()  # Create a copy without the first row\n",
    "    dfs.append(modified_df)\n",
    "\n",
    "# Concatenate all modified DataFrames back together\n",
    "final_data = pd.concat(dfs)\n"
   ]
  },
  {
   "cell_type": "code",
   "execution_count": 30,
   "metadata": {},
   "outputs": [
    {
     "data": {
      "text/html": [
       "<div>\n",
       "<style scoped>\n",
       "    .dataframe tbody tr th:only-of-type {\n",
       "        vertical-align: middle;\n",
       "    }\n",
       "\n",
       "    .dataframe tbody tr th {\n",
       "        vertical-align: top;\n",
       "    }\n",
       "\n",
       "    .dataframe thead th {\n",
       "        text-align: right;\n",
       "    }\n",
       "</style>\n",
       "<table border=\"1\" class=\"dataframe\">\n",
       "  <thead>\n",
       "    <tr style=\"text-align: right;\">\n",
       "      <th></th>\n",
       "      <th>station_number</th>\n",
       "      <th>date</th>\n",
       "      <th>snow_today</th>\n",
       "      <th>fog_count_past_7_days</th>\n",
       "      <th>fog_count_last_day</th>\n",
       "      <th>rain_count_past_7_days</th>\n",
       "      <th>rain_count_last_day</th>\n",
       "      <th>snow_count_past_7_days</th>\n",
       "      <th>snow_count_last_day</th>\n",
       "      <th>hail_count_past_7_days</th>\n",
       "      <th>...</th>\n",
       "      <th>mean_dew_point_past_7_days</th>\n",
       "      <th>mean_dew_point_past_day</th>\n",
       "      <th>mean_visibility_past_7_days</th>\n",
       "      <th>mean_visibility_past_day</th>\n",
       "      <th>mean_wind_speed_past_7_days</th>\n",
       "      <th>mean_wind_speed_past_day</th>\n",
       "      <th>max_temperature_past_7_days</th>\n",
       "      <th>max_temperature_past_day</th>\n",
       "      <th>total_precipitation_past_7_days</th>\n",
       "      <th>total_precipitation_past_day</th>\n",
       "    </tr>\n",
       "  </thead>\n",
       "  <tbody>\n",
       "    <tr>\n",
       "      <th>1</th>\n",
       "      <td>725300</td>\n",
       "      <td>2005-01-02</td>\n",
       "      <td>1</td>\n",
       "      <td>0</td>\n",
       "      <td>0</td>\n",
       "      <td>0</td>\n",
       "      <td>0</td>\n",
       "      <td>0</td>\n",
       "      <td>0</td>\n",
       "      <td>0</td>\n",
       "      <td>...</td>\n",
       "      <td>21.200001</td>\n",
       "      <td>21.200001</td>\n",
       "      <td>9.900000</td>\n",
       "      <td>9.9</td>\n",
       "      <td>8.700000</td>\n",
       "      <td>8.7</td>\n",
       "      <td>24.799999</td>\n",
       "      <td>24.799999</td>\n",
       "      <td>0.000000</td>\n",
       "      <td>0.00</td>\n",
       "    </tr>\n",
       "    <tr>\n",
       "      <th>2</th>\n",
       "      <td>725300</td>\n",
       "      <td>2005-01-03</td>\n",
       "      <td>1</td>\n",
       "      <td>1</td>\n",
       "      <td>1</td>\n",
       "      <td>1</td>\n",
       "      <td>1</td>\n",
       "      <td>1</td>\n",
       "      <td>1</td>\n",
       "      <td>1</td>\n",
       "      <td>...</td>\n",
       "      <td>30.650000</td>\n",
       "      <td>40.099998</td>\n",
       "      <td>8.000000</td>\n",
       "      <td>6.1</td>\n",
       "      <td>9.050000</td>\n",
       "      <td>9.4</td>\n",
       "      <td>25.000000</td>\n",
       "      <td>25.200001</td>\n",
       "      <td>0.125000</td>\n",
       "      <td>0.25</td>\n",
       "    </tr>\n",
       "    <tr>\n",
       "      <th>3</th>\n",
       "      <td>725300</td>\n",
       "      <td>2005-01-04</td>\n",
       "      <td>1</td>\n",
       "      <td>2</td>\n",
       "      <td>1</td>\n",
       "      <td>2</td>\n",
       "      <td>1</td>\n",
       "      <td>2</td>\n",
       "      <td>1</td>\n",
       "      <td>2</td>\n",
       "      <td>...</td>\n",
       "      <td>30.966667</td>\n",
       "      <td>31.600000</td>\n",
       "      <td>7.433333</td>\n",
       "      <td>6.3</td>\n",
       "      <td>8.633333</td>\n",
       "      <td>7.8</td>\n",
       "      <td>27.699999</td>\n",
       "      <td>33.099998</td>\n",
       "      <td>0.113333</td>\n",
       "      <td>0.09</td>\n",
       "    </tr>\n",
       "    <tr>\n",
       "      <th>4</th>\n",
       "      <td>725300</td>\n",
       "      <td>2005-01-05</td>\n",
       "      <td>1</td>\n",
       "      <td>3</td>\n",
       "      <td>1</td>\n",
       "      <td>3</td>\n",
       "      <td>1</td>\n",
       "      <td>3</td>\n",
       "      <td>1</td>\n",
       "      <td>3</td>\n",
       "      <td>...</td>\n",
       "      <td>30.575000</td>\n",
       "      <td>29.400000</td>\n",
       "      <td>7.500000</td>\n",
       "      <td>7.7</td>\n",
       "      <td>8.800000</td>\n",
       "      <td>9.3</td>\n",
       "      <td>28.275000</td>\n",
       "      <td>30.000000</td>\n",
       "      <td>0.170000</td>\n",
       "      <td>0.34</td>\n",
       "    </tr>\n",
       "    <tr>\n",
       "      <th>5</th>\n",
       "      <td>725300</td>\n",
       "      <td>2005-01-06</td>\n",
       "      <td>1</td>\n",
       "      <td>4</td>\n",
       "      <td>1</td>\n",
       "      <td>4</td>\n",
       "      <td>1</td>\n",
       "      <td>4</td>\n",
       "      <td>1</td>\n",
       "      <td>4</td>\n",
       "      <td>...</td>\n",
       "      <td>29.840000</td>\n",
       "      <td>26.900000</td>\n",
       "      <td>6.400000</td>\n",
       "      <td>2.0</td>\n",
       "      <td>10.120000</td>\n",
       "      <td>15.4</td>\n",
       "      <td>27.940000</td>\n",
       "      <td>26.600000</td>\n",
       "      <td>0.168000</td>\n",
       "      <td>0.16</td>\n",
       "    </tr>\n",
       "  </tbody>\n",
       "</table>\n",
       "<p>5 rows × 27 columns</p>\n",
       "</div>"
      ],
      "text/plain": [
       "   station_number       date  snow_today  fog_count_past_7_days  \\\n",
       "1          725300 2005-01-02           1                      0   \n",
       "2          725300 2005-01-03           1                      1   \n",
       "3          725300 2005-01-04           1                      2   \n",
       "4          725300 2005-01-05           1                      3   \n",
       "5          725300 2005-01-06           1                      4   \n",
       "\n",
       "   fog_count_last_day  rain_count_past_7_days  rain_count_last_day  \\\n",
       "1                   0                       0                    0   \n",
       "2                   1                       1                    1   \n",
       "3                   1                       2                    1   \n",
       "4                   1                       3                    1   \n",
       "5                   1                       4                    1   \n",
       "\n",
       "   snow_count_past_7_days  snow_count_last_day  hail_count_past_7_days  ...  \\\n",
       "1                       0                    0                       0  ...   \n",
       "2                       1                    1                       1  ...   \n",
       "3                       2                    1                       2  ...   \n",
       "4                       3                    1                       3  ...   \n",
       "5                       4                    1                       4  ...   \n",
       "\n",
       "   mean_dew_point_past_7_days  mean_dew_point_past_day  \\\n",
       "1                   21.200001                21.200001   \n",
       "2                   30.650000                40.099998   \n",
       "3                   30.966667                31.600000   \n",
       "4                   30.575000                29.400000   \n",
       "5                   29.840000                26.900000   \n",
       "\n",
       "   mean_visibility_past_7_days  mean_visibility_past_day  \\\n",
       "1                     9.900000                       9.9   \n",
       "2                     8.000000                       6.1   \n",
       "3                     7.433333                       6.3   \n",
       "4                     7.500000                       7.7   \n",
       "5                     6.400000                       2.0   \n",
       "\n",
       "   mean_wind_speed_past_7_days  mean_wind_speed_past_day  \\\n",
       "1                     8.700000                       8.7   \n",
       "2                     9.050000                       9.4   \n",
       "3                     8.633333                       7.8   \n",
       "4                     8.800000                       9.3   \n",
       "5                    10.120000                      15.4   \n",
       "\n",
       "   max_temperature_past_7_days  max_temperature_past_day  \\\n",
       "1                    24.799999                 24.799999   \n",
       "2                    25.000000                 25.200001   \n",
       "3                    27.699999                 33.099998   \n",
       "4                    28.275000                 30.000000   \n",
       "5                    27.940000                 26.600000   \n",
       "\n",
       "   total_precipitation_past_7_days  total_precipitation_past_day  \n",
       "1                         0.000000                          0.00  \n",
       "2                         0.125000                          0.25  \n",
       "3                         0.113333                          0.09  \n",
       "4                         0.170000                          0.34  \n",
       "5                         0.168000                          0.16  \n",
       "\n",
       "[5 rows x 27 columns]"
      ]
     },
     "execution_count": 30,
     "metadata": {},
     "output_type": "execute_result"
    }
   ],
   "source": [
    "final_data.head()"
   ]
  },
  {
   "cell_type": "code",
   "execution_count": 32,
   "metadata": {},
   "outputs": [
    {
     "name": "stdout",
     "output_type": "stream",
     "text": [
      "station_number                         0\n",
      "date                                   0\n",
      "snow_today                             0\n",
      "fog_count_past_7_days                  0\n",
      "fog_count_last_day                     0\n",
      "rain_count_past_7_days                 0\n",
      "rain_count_last_day                    0\n",
      "snow_count_past_7_days                 0\n",
      "snow_count_last_day                    0\n",
      "hail_count_past_7_days                 0\n",
      "hail_count_last_day                    0\n",
      "thunder_count_past_7_days              0\n",
      "thunder_count_last_day                 0\n",
      "tornado_count_past_7_days              0\n",
      "tornado_count_last_day                 0\n",
      "mean_temp_past_7_days                126\n",
      "mean_temp_past_day                  2687\n",
      "mean_dew_point_past_7_days           194\n",
      "mean_dew_point_past_day             2835\n",
      "mean_visibility_past_7_days         9716\n",
      "mean_visibility_past_day           12298\n",
      "mean_wind_speed_past_7_days          300\n",
      "mean_wind_speed_past_day            3029\n",
      "max_temperature_past_7_days          127\n",
      "max_temperature_past_day            2777\n",
      "total_precipitation_past_7_days     2357\n",
      "total_precipitation_past_day       47589\n",
      "dtype: int64\n"
     ]
    }
   ],
   "source": [
    "#Checking for null values\n",
    "\n",
    "NaN_counts = final_data.isnull().sum()\n",
    "print(NaN_counts)"
   ]
  },
  {
   "cell_type": "markdown",
   "metadata": {},
   "source": [
    "From the above analysis,temperatures can't be set as 0(previous days information is not present) as it's relevant for forecasting. Hence, remove only the NaN rows for these columns. "
   ]
  },
  {
   "cell_type": "code",
   "execution_count": 33,
   "metadata": {},
   "outputs": [],
   "source": [
    "#Drop rows with NaN values \n",
    "\n",
    "final_data.dropna(subset=['mean_temp_past_7_days', 'mean_temp_past_day', \n",
    "                          'max_temperature_past_7_days','max_temperature_past_day'], inplace=True)"
   ]
  },
  {
   "cell_type": "code",
   "execution_count": 34,
   "metadata": {},
   "outputs": [],
   "source": [
    "#For other rows with NaN values replace it with 0\n",
    "\n",
    "final_data.fillna(0,inplace=True)"
   ]
  },
  {
   "cell_type": "code",
   "execution_count": 35,
   "metadata": {},
   "outputs": [],
   "source": [
    "#Save the final data\n",
    "final_data.to_csv('final_data.csv', index=False)"
   ]
  },
  {
   "cell_type": "code",
   "execution_count": 36,
   "metadata": {},
   "outputs": [],
   "source": [
    "#Select features and target variables for training the model\n",
    "\n",
    "X = final_data.drop(columns=['station_number', 'date','snow_today'])\n",
    "y = final_data['snow_today']"
   ]
  },
  {
   "cell_type": "code",
   "execution_count": 37,
   "metadata": {},
   "outputs": [],
   "source": [
    "# Split the dataset into train, and validation sets(training set-80%, test set-20%)\n",
    "\n",
    "X_train, X_val, y_train, y_val = train_test_split(X, y, test_size=0.2, random_state=42)"
   ]
  },
  {
   "cell_type": "markdown",
   "metadata": {},
   "source": [
    "# TRAINING WITH DIFFERENT MODELS"
   ]
  },
  {
   "cell_type": "markdown",
   "metadata": {},
   "source": [
    "# XGB classifier with imbalanced data"
   ]
  },
  {
   "cell_type": "code",
   "execution_count": 38,
   "metadata": {},
   "outputs": [
    {
     "data": {
      "text/html": [
       "<style>#sk-container-id-1 {color: black;}#sk-container-id-1 pre{padding: 0;}#sk-container-id-1 div.sk-toggleable {background-color: white;}#sk-container-id-1 label.sk-toggleable__label {cursor: pointer;display: block;width: 100%;margin-bottom: 0;padding: 0.3em;box-sizing: border-box;text-align: center;}#sk-container-id-1 label.sk-toggleable__label-arrow:before {content: \"▸\";float: left;margin-right: 0.25em;color: #696969;}#sk-container-id-1 label.sk-toggleable__label-arrow:hover:before {color: black;}#sk-container-id-1 div.sk-estimator:hover label.sk-toggleable__label-arrow:before {color: black;}#sk-container-id-1 div.sk-toggleable__content {max-height: 0;max-width: 0;overflow: hidden;text-align: left;background-color: #f0f8ff;}#sk-container-id-1 div.sk-toggleable__content pre {margin: 0.2em;color: black;border-radius: 0.25em;background-color: #f0f8ff;}#sk-container-id-1 input.sk-toggleable__control:checked~div.sk-toggleable__content {max-height: 200px;max-width: 100%;overflow: auto;}#sk-container-id-1 input.sk-toggleable__control:checked~label.sk-toggleable__label-arrow:before {content: \"▾\";}#sk-container-id-1 div.sk-estimator input.sk-toggleable__control:checked~label.sk-toggleable__label {background-color: #d4ebff;}#sk-container-id-1 div.sk-label input.sk-toggleable__control:checked~label.sk-toggleable__label {background-color: #d4ebff;}#sk-container-id-1 input.sk-hidden--visually {border: 0;clip: rect(1px 1px 1px 1px);clip: rect(1px, 1px, 1px, 1px);height: 1px;margin: -1px;overflow: hidden;padding: 0;position: absolute;width: 1px;}#sk-container-id-1 div.sk-estimator {font-family: monospace;background-color: #f0f8ff;border: 1px dotted black;border-radius: 0.25em;box-sizing: border-box;margin-bottom: 0.5em;}#sk-container-id-1 div.sk-estimator:hover {background-color: #d4ebff;}#sk-container-id-1 div.sk-parallel-item::after {content: \"\";width: 100%;border-bottom: 1px solid gray;flex-grow: 1;}#sk-container-id-1 div.sk-label:hover label.sk-toggleable__label {background-color: #d4ebff;}#sk-container-id-1 div.sk-serial::before {content: \"\";position: absolute;border-left: 1px solid gray;box-sizing: border-box;top: 0;bottom: 0;left: 50%;z-index: 0;}#sk-container-id-1 div.sk-serial {display: flex;flex-direction: column;align-items: center;background-color: white;padding-right: 0.2em;padding-left: 0.2em;position: relative;}#sk-container-id-1 div.sk-item {position: relative;z-index: 1;}#sk-container-id-1 div.sk-parallel {display: flex;align-items: stretch;justify-content: center;background-color: white;position: relative;}#sk-container-id-1 div.sk-item::before, #sk-container-id-1 div.sk-parallel-item::before {content: \"\";position: absolute;border-left: 1px solid gray;box-sizing: border-box;top: 0;bottom: 0;left: 50%;z-index: -1;}#sk-container-id-1 div.sk-parallel-item {display: flex;flex-direction: column;z-index: 1;position: relative;background-color: white;}#sk-container-id-1 div.sk-parallel-item:first-child::after {align-self: flex-end;width: 50%;}#sk-container-id-1 div.sk-parallel-item:last-child::after {align-self: flex-start;width: 50%;}#sk-container-id-1 div.sk-parallel-item:only-child::after {width: 0;}#sk-container-id-1 div.sk-dashed-wrapped {border: 1px dashed gray;margin: 0 0.4em 0.5em 0.4em;box-sizing: border-box;padding-bottom: 0.4em;background-color: white;}#sk-container-id-1 div.sk-label label {font-family: monospace;font-weight: bold;display: inline-block;line-height: 1.2em;}#sk-container-id-1 div.sk-label-container {text-align: center;}#sk-container-id-1 div.sk-container {/* jupyter's `normalize.less` sets `[hidden] { display: none; }` but bootstrap.min.css set `[hidden] { display: none !important; }` so we also need the `!important` here to be able to override the default hidden behavior on the sphinx rendered scikit-learn.org. See: https://github.com/scikit-learn/scikit-learn/issues/21755 */display: inline-block !important;position: relative;}#sk-container-id-1 div.sk-text-repr-fallback {display: none;}</style><div id=\"sk-container-id-1\" class=\"sk-top-container\"><div class=\"sk-text-repr-fallback\"><pre>XGBClassifier(base_score=None, booster=None, callbacks=None,\n",
       "              colsample_bylevel=None, colsample_bynode=None,\n",
       "              colsample_bytree=None, device=None, early_stopping_rounds=None,\n",
       "              enable_categorical=False, eval_metric=None, feature_types=None,\n",
       "              gamma=None, grow_policy=None, importance_type=None,\n",
       "              interaction_constraints=None, learning_rate=None, max_bin=None,\n",
       "              max_cat_threshold=None, max_cat_to_onehot=None,\n",
       "              max_delta_step=None, max_depth=None, max_leaves=None,\n",
       "              min_child_weight=None, missing=nan, monotone_constraints=None,\n",
       "              multi_strategy=None, n_estimators=None, n_jobs=None,\n",
       "              num_parallel_tree=None, random_state=None, ...)</pre><b>In a Jupyter environment, please rerun this cell to show the HTML representation or trust the notebook. <br />On GitHub, the HTML representation is unable to render, please try loading this page with nbviewer.org.</b></div><div class=\"sk-container\" hidden><div class=\"sk-item\"><div class=\"sk-estimator sk-toggleable\"><input class=\"sk-toggleable__control sk-hidden--visually\" id=\"sk-estimator-id-1\" type=\"checkbox\" checked><label for=\"sk-estimator-id-1\" class=\"sk-toggleable__label sk-toggleable__label-arrow\">XGBClassifier</label><div class=\"sk-toggleable__content\"><pre>XGBClassifier(base_score=None, booster=None, callbacks=None,\n",
       "              colsample_bylevel=None, colsample_bynode=None,\n",
       "              colsample_bytree=None, device=None, early_stopping_rounds=None,\n",
       "              enable_categorical=False, eval_metric=None, feature_types=None,\n",
       "              gamma=None, grow_policy=None, importance_type=None,\n",
       "              interaction_constraints=None, learning_rate=None, max_bin=None,\n",
       "              max_cat_threshold=None, max_cat_to_onehot=None,\n",
       "              max_delta_step=None, max_depth=None, max_leaves=None,\n",
       "              min_child_weight=None, missing=nan, monotone_constraints=None,\n",
       "              multi_strategy=None, n_estimators=None, n_jobs=None,\n",
       "              num_parallel_tree=None, random_state=None, ...)</pre></div></div></div></div></div>"
      ],
      "text/plain": [
       "XGBClassifier(base_score=None, booster=None, callbacks=None,\n",
       "              colsample_bylevel=None, colsample_bynode=None,\n",
       "              colsample_bytree=None, device=None, early_stopping_rounds=None,\n",
       "              enable_categorical=False, eval_metric=None, feature_types=None,\n",
       "              gamma=None, grow_policy=None, importance_type=None,\n",
       "              interaction_constraints=None, learning_rate=None, max_bin=None,\n",
       "              max_cat_threshold=None, max_cat_to_onehot=None,\n",
       "              max_delta_step=None, max_depth=None, max_leaves=None,\n",
       "              min_child_weight=None, missing=nan, monotone_constraints=None,\n",
       "              multi_strategy=None, n_estimators=None, n_jobs=None,\n",
       "              num_parallel_tree=None, random_state=None, ...)"
      ]
     },
     "execution_count": 38,
     "metadata": {},
     "output_type": "execute_result"
    }
   ],
   "source": [
    "# Define XGBoost model\n",
    "model_xgb = XGBClassifier()\n",
    "\n",
    "# Train the model on the training data\n",
    "model_xgb.fit(X_train, y_train)"
   ]
  },
  {
   "cell_type": "markdown",
   "metadata": {},
   "source": [
    "# Performance evaluation"
   ]
  },
  {
   "cell_type": "code",
   "execution_count": 42,
   "metadata": {},
   "outputs": [
    {
     "name": "stdout",
     "output_type": "stream",
     "text": [
      "Validation Accuracy: 0.90\n"
     ]
    }
   ],
   "source": [
    "# Predictions on the validation set\n",
    "y_pred_val_xgb = model_xgb.predict(X_val)\n",
    "\n",
    "# Calculate accuracy on the validation set\n",
    "accuracy_val_xgb = accuracy_score(y_val, y_pred_val_xgb)\n",
    "print(f'Validation Accuracy: {accuracy_val_xgb:.2f}')"
   ]
  },
  {
   "cell_type": "code",
   "execution_count": 43,
   "metadata": {},
   "outputs": [
    {
     "name": "stdout",
     "output_type": "stream",
     "text": [
      "Validation Set Classification Report:\n",
      "              precision    recall  f1-score   support\n",
      "\n",
      "           0       0.91      0.99      0.95     67037\n",
      "           1       0.65      0.20      0.31      7921\n",
      "\n",
      "    accuracy                           0.90     74958\n",
      "   macro avg       0.78      0.59      0.63     74958\n",
      "weighted avg       0.89      0.90      0.88     74958\n",
      "\n",
      "Validation Set Confusion Matrix:\n",
      "[[66188   849]\n",
      " [ 6323  1598]]\n"
     ]
    }
   ],
   "source": [
    "\n",
    "# Classification report for validation set\n",
    "print(\"Validation Set Classification Report:\")\n",
    "print(classification_report(y_val, y_pred_val_xgb))\n",
    "\n",
    "# Confusion matrix for validation set\n",
    "print(\"Validation Set Confusion Matrix:\")\n",
    "print(confusion_matrix(y_val, y_pred_val_xgb))"
   ]
  },
  {
   "cell_type": "code",
   "execution_count": 49,
   "metadata": {},
   "outputs": [
    {
     "name": "stdout",
     "output_type": "stream",
     "text": [
      "ROC-AUC: 0.59\n"
     ]
    },
    {
     "data": {
      "image/png": "[encoded data removed]",
      "text/plain": [
       "<Figure size 432x288 with 1 Axes>"
      ]
     },
     "metadata": {
      "needs_background": "light"
     },
     "output_type": "display_data"
    }
   ],
   "source": [
    "roc_auc = roc_auc_score(y_val, y_pred_val_xgb)\n",
    "fpr, tpr, thresholds = roc_curve(y_val, y_pred_val_xgb)\n",
    "\n",
    "print(f'ROC-AUC: {roc_auc:.2f}')\n",
    "\n",
    "plt.plot(fpr, tpr, label='ROC curve (area = %0.2f)' % roc_auc)\n",
    "plt.plot([0, 1], [0, 1], 'k--')\n",
    "plt.xlabel('False Positive Rate')\n",
    "plt.ylabel('True Positive Rate')\n",
    "plt.title('Receiver Operating Characteristic')\n",
    "plt.legend(loc='lower right')\n",
    "plt.show()"
   ]
  },
  {
   "cell_type": "markdown",
   "metadata": {},
   "source": [
    "From the above results, it's clear that the model performs very well on class 0(no snow), with high precision, recall, and F1-score. The model performs poorly on class 1 (snow), with low recall indicating that it misses many instances of class 1. The overall accuracy is high(90%), but this is primarily driven by the model's performance on the majority class (class 0). ROC-AUC score of 0.59 indicates that the model's performance is not very effective at differentiating between the two classes.\n",
    "\n",
    "\n",
    "Techniques like resampling, ensembling, or adjusting class weights might help in improving the performance on the minority class. Below codes are to explore further to manage the imbalance in the data.\n"
   ]
  },
  {
   "cell_type": "code",
   "execution_count": 61,
   "metadata": {},
   "outputs": [
    {
     "name": "stdout",
     "output_type": "stream",
     "text": [
      "snow_today\n",
      "0    268255\n",
      "1     31577\n",
      "Name: count, dtype: int64\n"
     ]
    }
   ],
   "source": [
    "#Count for each class before sampling\n",
    "\n",
    "print(pd.Series(y_train).value_counts())"
   ]
  },
  {
   "cell_type": "markdown",
   "metadata": {},
   "source": [
    "# Perform Resampling techniques"
   ]
  },
  {
   "cell_type": "markdown",
   "metadata": {},
   "source": [
    "                                    UNDER SAMPLING"
   ]
  },
  {
   "cell_type": "code",
   "execution_count": 60,
   "metadata": {},
   "outputs": [
    {
     "name": "stdout",
     "output_type": "stream",
     "text": [
      "Class distribution after resampling:\n",
      "snow_today\n",
      "0    31577\n",
      "1    31577\n",
      "Name: count, dtype: int64\n"
     ]
    }
   ],
   "source": [
    "# Apply Random Under-sampling\n",
    "rus = RandomUnderSampler(random_state=42)\n",
    "X_train_resampled, y_train_resampled = rus.fit_resample(X_train, y_train)\n",
    "\n",
    "# Check class distribution after resampling\n",
    "print(\"Class distribution after resampling:\")\n",
    "print(pd.Series(y_train_resampled).value_counts())"
   ]
  },
  {
   "cell_type": "code",
   "execution_count": 62,
   "metadata": {},
   "outputs": [
    {
     "data": {
      "text/html": [
       "<style>#sk-container-id-2 {color: black;}#sk-container-id-2 pre{padding: 0;}#sk-container-id-2 div.sk-toggleable {background-color: white;}#sk-container-id-2 label.sk-toggleable__label {cursor: pointer;display: block;width: 100%;margin-bottom: 0;padding: 0.3em;box-sizing: border-box;text-align: center;}#sk-container-id-2 label.sk-toggleable__label-arrow:before {content: \"▸\";float: left;margin-right: 0.25em;color: #696969;}#sk-container-id-2 label.sk-toggleable__label-arrow:hover:before {color: black;}#sk-container-id-2 div.sk-estimator:hover label.sk-toggleable__label-arrow:before {color: black;}#sk-container-id-2 div.sk-toggleable__content {max-height: 0;max-width: 0;overflow: hidden;text-align: left;background-color: #f0f8ff;}#sk-container-id-2 div.sk-toggleable__content pre {margin: 0.2em;color: black;border-radius: 0.25em;background-color: #f0f8ff;}#sk-container-id-2 input.sk-toggleable__control:checked~div.sk-toggleable__content {max-height: 200px;max-width: 100%;overflow: auto;}#sk-container-id-2 input.sk-toggleable__control:checked~label.sk-toggleable__label-arrow:before {content: \"▾\";}#sk-container-id-2 div.sk-estimator input.sk-toggleable__control:checked~label.sk-toggleable__label {background-color: #d4ebff;}#sk-container-id-2 div.sk-label input.sk-toggleable__control:checked~label.sk-toggleable__label {background-color: #d4ebff;}#sk-container-id-2 input.sk-hidden--visually {border: 0;clip: rect(1px 1px 1px 1px);clip: rect(1px, 1px, 1px, 1px);height: 1px;margin: -1px;overflow: hidden;padding: 0;position: absolute;width: 1px;}#sk-container-id-2 div.sk-estimator {font-family: monospace;background-color: #f0f8ff;border: 1px dotted black;border-radius: 0.25em;box-sizing: border-box;margin-bottom: 0.5em;}#sk-container-id-2 div.sk-estimator:hover {background-color: #d4ebff;}#sk-container-id-2 div.sk-parallel-item::after {content: \"\";width: 100%;border-bottom: 1px solid gray;flex-grow: 1;}#sk-container-id-2 div.sk-label:hover label.sk-toggleable__label {background-color: #d4ebff;}#sk-container-id-2 div.sk-serial::before {content: \"\";position: absolute;border-left: 1px solid gray;box-sizing: border-box;top: 0;bottom: 0;left: 50%;z-index: 0;}#sk-container-id-2 div.sk-serial {display: flex;flex-direction: column;align-items: center;background-color: white;padding-right: 0.2em;padding-left: 0.2em;position: relative;}#sk-container-id-2 div.sk-item {position: relative;z-index: 1;}#sk-container-id-2 div.sk-parallel {display: flex;align-items: stretch;justify-content: center;background-color: white;position: relative;}#sk-container-id-2 div.sk-item::before, #sk-container-id-2 div.sk-parallel-item::before {content: \"\";position: absolute;border-left: 1px solid gray;box-sizing: border-box;top: 0;bottom: 0;left: 50%;z-index: -1;}#sk-container-id-2 div.sk-parallel-item {display: flex;flex-direction: column;z-index: 1;position: relative;background-color: white;}#sk-container-id-2 div.sk-parallel-item:first-child::after {align-self: flex-end;width: 50%;}#sk-container-id-2 div.sk-parallel-item:last-child::after {align-self: flex-start;width: 50%;}#sk-container-id-2 div.sk-parallel-item:only-child::after {width: 0;}#sk-container-id-2 div.sk-dashed-wrapped {border: 1px dashed gray;margin: 0 0.4em 0.5em 0.4em;box-sizing: border-box;padding-bottom: 0.4em;background-color: white;}#sk-container-id-2 div.sk-label label {font-family: monospace;font-weight: bold;display: inline-block;line-height: 1.2em;}#sk-container-id-2 div.sk-label-container {text-align: center;}#sk-container-id-2 div.sk-container {/* jupyter's `normalize.less` sets `[hidden] { display: none; }` but bootstrap.min.css set `[hidden] { display: none !important; }` so we also need the `!important` here to be able to override the default hidden behavior on the sphinx rendered scikit-learn.org. See: https://github.com/scikit-learn/scikit-learn/issues/21755 */display: inline-block !important;position: relative;}#sk-container-id-2 div.sk-text-repr-fallback {display: none;}</style><div id=\"sk-container-id-2\" class=\"sk-top-container\"><div class=\"sk-text-repr-fallback\"><pre>XGBClassifier(base_score=None, booster=None, callbacks=None,\n",
       "              colsample_bylevel=None, colsample_bynode=None,\n",
       "              colsample_bytree=None, device=None, early_stopping_rounds=None,\n",
       "              enable_categorical=False, eval_metric=None, feature_types=None,\n",
       "              gamma=None, grow_policy=None, importance_type=None,\n",
       "              interaction_constraints=None, learning_rate=None, max_bin=None,\n",
       "              max_cat_threshold=None, max_cat_to_onehot=None,\n",
       "              max_delta_step=None, max_depth=None, max_leaves=None,\n",
       "              min_child_weight=None, missing=nan, monotone_constraints=None,\n",
       "              multi_strategy=None, n_estimators=None, n_jobs=None,\n",
       "              num_parallel_tree=None, random_state=None, ...)</pre><b>In a Jupyter environment, please rerun this cell to show the HTML representation or trust the notebook. <br />On GitHub, the HTML representation is unable to render, please try loading this page with nbviewer.org.</b></div><div class=\"sk-container\" hidden><div class=\"sk-item\"><div class=\"sk-estimator sk-toggleable\"><input class=\"sk-toggleable__control sk-hidden--visually\" id=\"sk-estimator-id-2\" type=\"checkbox\" checked><label for=\"sk-estimator-id-2\" class=\"sk-toggleable__label sk-toggleable__label-arrow\">XGBClassifier</label><div class=\"sk-toggleable__content\"><pre>XGBClassifier(base_score=None, booster=None, callbacks=None,\n",
       "              colsample_bylevel=None, colsample_bynode=None,\n",
       "              colsample_bytree=None, device=None, early_stopping_rounds=None,\n",
       "              enable_categorical=False, eval_metric=None, feature_types=None,\n",
       "              gamma=None, grow_policy=None, importance_type=None,\n",
       "              interaction_constraints=None, learning_rate=None, max_bin=None,\n",
       "              max_cat_threshold=None, max_cat_to_onehot=None,\n",
       "              max_delta_step=None, max_depth=None, max_leaves=None,\n",
       "              min_child_weight=None, missing=nan, monotone_constraints=None,\n",
       "              multi_strategy=None, n_estimators=None, n_jobs=None,\n",
       "              num_parallel_tree=None, random_state=None, ...)</pre></div></div></div></div></div>"
      ],
      "text/plain": [
       "XGBClassifier(base_score=None, booster=None, callbacks=None,\n",
       "              colsample_bylevel=None, colsample_bynode=None,\n",
       "              colsample_bytree=None, device=None, early_stopping_rounds=None,\n",
       "              enable_categorical=False, eval_metric=None, feature_types=None,\n",
       "              gamma=None, grow_policy=None, importance_type=None,\n",
       "              interaction_constraints=None, learning_rate=None, max_bin=None,\n",
       "              max_cat_threshold=None, max_cat_to_onehot=None,\n",
       "              max_delta_step=None, max_depth=None, max_leaves=None,\n",
       "              min_child_weight=None, missing=nan, monotone_constraints=None,\n",
       "              multi_strategy=None, n_estimators=None, n_jobs=None,\n",
       "              num_parallel_tree=None, random_state=None, ...)"
      ]
     },
     "execution_count": 62,
     "metadata": {},
     "output_type": "execute_result"
    }
   ],
   "source": [
    "# Define XGBoost model\n",
    "model_rus = XGBClassifier()\n",
    "\n",
    "# Train the model on the training data\n",
    "model_rus.fit(X_train_resampled, y_train_resampled)"
   ]
  },
  {
   "cell_type": "code",
   "execution_count": 63,
   "metadata": {},
   "outputs": [
    {
     "name": "stdout",
     "output_type": "stream",
     "text": [
      "Validation Accuracy: 0.75\n"
     ]
    }
   ],
   "source": [
    "# Predictions on the validation set\n",
    "y_pred_val_rus = model_rus.predict(X_val)\n",
    "\n",
    "# Calculate accuracy on the validation set\n",
    "accuracy_val_rus = accuracy_score(y_val, y_pred_val_rus)\n",
    "print(f'Validation Accuracy: {accuracy_val_rus:.2f}')"
   ]
  },
  {
   "cell_type": "code",
   "execution_count": 65,
   "metadata": {},
   "outputs": [
    {
     "name": "stdout",
     "output_type": "stream",
     "text": [
      "Validation Set Classification Report:\n",
      "              precision    recall  f1-score   support\n",
      "\n",
      "           0       0.96      0.75      0.84     67037\n",
      "           1       0.27      0.77      0.39      7921\n",
      "\n",
      "    accuracy                           0.75     74958\n",
      "   macro avg       0.62      0.76      0.62     74958\n",
      "weighted avg       0.89      0.75      0.80     74958\n",
      "\n",
      "Validation Set Confusion Matrix:\n",
      "[[50203 16834]\n",
      " [ 1830  6091]]\n"
     ]
    }
   ],
   "source": [
    "\n",
    "# Classification report for validation set\n",
    "print(\"Validation Set Classification Report:\")\n",
    "print(classification_report(y_val, y_pred_val_rus))\n",
    "\n",
    "# Confusion matrix for validation set\n",
    "print(\"Validation Set Confusion Matrix:\")\n",
    "print(confusion_matrix(y_val, y_pred_val_rus))"
   ]
  },
  {
   "cell_type": "code",
   "execution_count": 133,
   "metadata": {},
   "outputs": [
    {
     "name": "stdout",
     "output_type": "stream",
     "text": [
      "ROC-AUC: 0.76\n"
     ]
    }
   ],
   "source": [
    "roc_auc = roc_auc_score(y_val, y_pred_val_rus)\n",
    "fpr, tpr, thresholds = roc_curve(y_val, y_pred_val_rus)\n",
    "\n",
    "print(f'ROC-AUC: {roc_auc:.2f}')\n",
    "\n"
   ]
  },
  {
   "cell_type": "markdown",
   "metadata": {},
   "source": [
    "                                        OVER SAMPLING"
   ]
  },
  {
   "cell_type": "code",
   "execution_count": 70,
   "metadata": {},
   "outputs": [
    {
     "name": "stdout",
     "output_type": "stream",
     "text": [
      "Class distribution after resampling:\n",
      "snow_today\n",
      "0    268255\n",
      "1    268255\n",
      "Name: count, dtype: int64\n"
     ]
    }
   ],
   "source": [
    "# Apply Over-sampling\n",
    "ros = RandomOverSampler(random_state=42)\n",
    "X_train_oversampled, y_train_oversampled = ros.fit_resample(X_train, y_train)\n",
    "\n",
    "# Check class distribution after resampling\n",
    "print(\"Class distribution after resampling:\")\n",
    "print(pd.Series(y_train_oversampled).value_counts())"
   ]
  },
  {
   "cell_type": "code",
   "execution_count": 71,
   "metadata": {},
   "outputs": [
    {
     "data": {
      "text/html": [
       "<style>#sk-container-id-3 {color: black;}#sk-container-id-3 pre{padding: 0;}#sk-container-id-3 div.sk-toggleable {background-color: white;}#sk-container-id-3 label.sk-toggleable__label {cursor: pointer;display: block;width: 100%;margin-bottom: 0;padding: 0.3em;box-sizing: border-box;text-align: center;}#sk-container-id-3 label.sk-toggleable__label-arrow:before {content: \"▸\";float: left;margin-right: 0.25em;color: #696969;}#sk-container-id-3 label.sk-toggleable__label-arrow:hover:before {color: black;}#sk-container-id-3 div.sk-estimator:hover label.sk-toggleable__label-arrow:before {color: black;}#sk-container-id-3 div.sk-toggleable__content {max-height: 0;max-width: 0;overflow: hidden;text-align: left;background-color: #f0f8ff;}#sk-container-id-3 div.sk-toggleable__content pre {margin: 0.2em;color: black;border-radius: 0.25em;background-color: #f0f8ff;}#sk-container-id-3 input.sk-toggleable__control:checked~div.sk-toggleable__content {max-height: 200px;max-width: 100%;overflow: auto;}#sk-container-id-3 input.sk-toggleable__control:checked~label.sk-toggleable__label-arrow:before {content: \"▾\";}#sk-container-id-3 div.sk-estimator input.sk-toggleable__control:checked~label.sk-toggleable__label {background-color: #d4ebff;}#sk-container-id-3 div.sk-label input.sk-toggleable__control:checked~label.sk-toggleable__label {background-color: #d4ebff;}#sk-container-id-3 input.sk-hidden--visually {border: 0;clip: rect(1px 1px 1px 1px);clip: rect(1px, 1px, 1px, 1px);height: 1px;margin: -1px;overflow: hidden;padding: 0;position: absolute;width: 1px;}#sk-container-id-3 div.sk-estimator {font-family: monospace;background-color: #f0f8ff;border: 1px dotted black;border-radius: 0.25em;box-sizing: border-box;margin-bottom: 0.5em;}#sk-container-id-3 div.sk-estimator:hover {background-color: #d4ebff;}#sk-container-id-3 div.sk-parallel-item::after {content: \"\";width: 100%;border-bottom: 1px solid gray;flex-grow: 1;}#sk-container-id-3 div.sk-label:hover label.sk-toggleable__label {background-color: #d4ebff;}#sk-container-id-3 div.sk-serial::before {content: \"\";position: absolute;border-left: 1px solid gray;box-sizing: border-box;top: 0;bottom: 0;left: 50%;z-index: 0;}#sk-container-id-3 div.sk-serial {display: flex;flex-direction: column;align-items: center;background-color: white;padding-right: 0.2em;padding-left: 0.2em;position: relative;}#sk-container-id-3 div.sk-item {position: relative;z-index: 1;}#sk-container-id-3 div.sk-parallel {display: flex;align-items: stretch;justify-content: center;background-color: white;position: relative;}#sk-container-id-3 div.sk-item::before, #sk-container-id-3 div.sk-parallel-item::before {content: \"\";position: absolute;border-left: 1px solid gray;box-sizing: border-box;top: 0;bottom: 0;left: 50%;z-index: -1;}#sk-container-id-3 div.sk-parallel-item {display: flex;flex-direction: column;z-index: 1;position: relative;background-color: white;}#sk-container-id-3 div.sk-parallel-item:first-child::after {align-self: flex-end;width: 50%;}#sk-container-id-3 div.sk-parallel-item:last-child::after {align-self: flex-start;width: 50%;}#sk-container-id-3 div.sk-parallel-item:only-child::after {width: 0;}#sk-container-id-3 div.sk-dashed-wrapped {border: 1px dashed gray;margin: 0 0.4em 0.5em 0.4em;box-sizing: border-box;padding-bottom: 0.4em;background-color: white;}#sk-container-id-3 div.sk-label label {font-family: monospace;font-weight: bold;display: inline-block;line-height: 1.2em;}#sk-container-id-3 div.sk-label-container {text-align: center;}#sk-container-id-3 div.sk-container {/* jupyter's `normalize.less` sets `[hidden] { display: none; }` but bootstrap.min.css set `[hidden] { display: none !important; }` so we also need the `!important` here to be able to override the default hidden behavior on the sphinx rendered scikit-learn.org. See: https://github.com/scikit-learn/scikit-learn/issues/21755 */display: inline-block !important;position: relative;}#sk-container-id-3 div.sk-text-repr-fallback {display: none;}</style><div id=\"sk-container-id-3\" class=\"sk-top-container\"><div class=\"sk-text-repr-fallback\"><pre>XGBClassifier(base_score=None, booster=None, callbacks=None,\n",
       "              colsample_bylevel=None, colsample_bynode=None,\n",
       "              colsample_bytree=None, device=None, early_stopping_rounds=None,\n",
       "              enable_categorical=False, eval_metric=None, feature_types=None,\n",
       "              gamma=None, grow_policy=None, importance_type=None,\n",
       "              interaction_constraints=None, learning_rate=None, max_bin=None,\n",
       "              max_cat_threshold=None, max_cat_to_onehot=None,\n",
       "              max_delta_step=None, max_depth=None, max_leaves=None,\n",
       "              min_child_weight=None, missing=nan, monotone_constraints=None,\n",
       "              multi_strategy=None, n_estimators=None, n_jobs=None,\n",
       "              num_parallel_tree=None, random_state=None, ...)</pre><b>In a Jupyter environment, please rerun this cell to show the HTML representation or trust the notebook. <br />On GitHub, the HTML representation is unable to render, please try loading this page with nbviewer.org.</b></div><div class=\"sk-container\" hidden><div class=\"sk-item\"><div class=\"sk-estimator sk-toggleable\"><input class=\"sk-toggleable__control sk-hidden--visually\" id=\"sk-estimator-id-3\" type=\"checkbox\" checked><label for=\"sk-estimator-id-3\" class=\"sk-toggleable__label sk-toggleable__label-arrow\">XGBClassifier</label><div class=\"sk-toggleable__content\"><pre>XGBClassifier(base_score=None, booster=None, callbacks=None,\n",
       "              colsample_bylevel=None, colsample_bynode=None,\n",
       "              colsample_bytree=None, device=None, early_stopping_rounds=None,\n",
       "              enable_categorical=False, eval_metric=None, feature_types=None,\n",
       "              gamma=None, grow_policy=None, importance_type=None,\n",
       "              interaction_constraints=None, learning_rate=None, max_bin=None,\n",
       "              max_cat_threshold=None, max_cat_to_onehot=None,\n",
       "              max_delta_step=None, max_depth=None, max_leaves=None,\n",
       "              min_child_weight=None, missing=nan, monotone_constraints=None,\n",
       "              multi_strategy=None, n_estimators=None, n_jobs=None,\n",
       "              num_parallel_tree=None, random_state=None, ...)</pre></div></div></div></div></div>"
      ],
      "text/plain": [
       "XGBClassifier(base_score=None, booster=None, callbacks=None,\n",
       "              colsample_bylevel=None, colsample_bynode=None,\n",
       "              colsample_bytree=None, device=None, early_stopping_rounds=None,\n",
       "              enable_categorical=False, eval_metric=None, feature_types=None,\n",
       "              gamma=None, grow_policy=None, importance_type=None,\n",
       "              interaction_constraints=None, learning_rate=None, max_bin=None,\n",
       "              max_cat_threshold=None, max_cat_to_onehot=None,\n",
       "              max_delta_step=None, max_depth=None, max_leaves=None,\n",
       "              min_child_weight=None, missing=nan, monotone_constraints=None,\n",
       "              multi_strategy=None, n_estimators=None, n_jobs=None,\n",
       "              num_parallel_tree=None, random_state=None, ...)"
      ]
     },
     "execution_count": 71,
     "metadata": {},
     "output_type": "execute_result"
    }
   ],
   "source": [
    "# Define XGBoost model\n",
    "model_ros = XGBClassifier()\n",
    "\n",
    "# Train the model on the training data\n",
    "model_ros.fit(X_train_oversampled, y_train_oversampled)"
   ]
  },
  {
   "cell_type": "code",
   "execution_count": 72,
   "metadata": {},
   "outputs": [
    {
     "name": "stdout",
     "output_type": "stream",
     "text": [
      "Validation Accuracy: 0.77\n"
     ]
    }
   ],
   "source": [
    "# Predictions on the validation set\n",
    "y_pred_val_ros = model_ros.predict(X_val)\n",
    "\n",
    "# Calculate accuracy on the validation set\n",
    "accuracy_val_ros = accuracy_score(y_val, y_pred_val_ros)\n",
    "print(f'Validation Accuracy: {accuracy_val_ros:.2f}')"
   ]
  },
  {
   "cell_type": "code",
   "execution_count": 73,
   "metadata": {},
   "outputs": [
    {
     "name": "stdout",
     "output_type": "stream",
     "text": [
      "Validation Set Classification Report:\n",
      "              precision    recall  f1-score   support\n",
      "\n",
      "           0       0.96      0.78      0.86     67037\n",
      "           1       0.28      0.74      0.41      7921\n",
      "\n",
      "    accuracy                           0.77     74958\n",
      "   macro avg       0.62      0.76      0.64     74958\n",
      "weighted avg       0.89      0.77      0.81     74958\n",
      "\n",
      "Validation Set Confusion Matrix:\n",
      "[[52129 14908]\n",
      " [ 2027  5894]]\n"
     ]
    }
   ],
   "source": [
    "\n",
    "# Classification report for validation set\n",
    "print(\"Validation Set Classification Report:\")\n",
    "print(classification_report(y_val, y_pred_val_ros))\n",
    "\n",
    "# Confusion matrix for validation set\n",
    "print(\"Validation Set Confusion Matrix:\")\n",
    "print(confusion_matrix(y_val, y_pred_val_ros))"
   ]
  },
  {
   "cell_type": "code",
   "execution_count": 134,
   "metadata": {},
   "outputs": [
    {
     "name": "stdout",
     "output_type": "stream",
     "text": [
      "ROC-AUC: 0.76\n"
     ]
    }
   ],
   "source": [
    "roc_auc = roc_auc_score(y_val, y_pred_val_ros)\n",
    "fpr, tpr, thresholds = roc_curve(y_val, y_pred_val_ros)\n",
    "\n",
    "print(f'ROC-AUC: {roc_auc:.2f}')\n"
   ]
  },
  {
   "cell_type": "markdown",
   "metadata": {},
   "source": [
    "Both under-sampling and oversampling techniques gave 75-77% accuracy and a score of 0.76 for ROC-AUC. A score of 0.76 indicates that the model performs reasonably well(compared to previous one) in distinguishing between the two classes. But from the classification report gives a clear picture that the model effectively identifies class 0 instances but struggles more with class 1.\n",
    "\n",
    "Adjustments may be needed to improve precision for class 1 while maintaining or improving recall for both classes."
   ]
  },
  {
   "cell_type": "markdown",
   "metadata": {},
   "source": [
    "# Perform Ensemble technique"
   ]
  },
  {
   "cell_type": "code",
   "execution_count": 84,
   "metadata": {},
   "outputs": [
    {
     "name": "stderr",
     "output_type": "stream",
     "text": [
      "C:\\ProgramData\\Anaconda3\\lib\\site-packages\\imblearn\\ensemble\\_forest.py:577: FutureWarning: The default of `sampling_strategy` will change from `'auto'` to `'all'` in version 0.13. This change will follow the implementation proposed in the original paper. Set to `'all'` to silence this warning and adopt the future behaviour.\n",
      "  warn(\n",
      "C:\\ProgramData\\Anaconda3\\lib\\site-packages\\imblearn\\ensemble\\_forest.py:589: FutureWarning: The default of `replacement` will change from `False` to `True` in version 0.13. This change will follow the implementation proposed in the original paper. Set to `True` to silence this warning and adopt the future behaviour.\n",
      "  warn(\n",
      "C:\\ProgramData\\Anaconda3\\lib\\site-packages\\imblearn\\ensemble\\_forest.py:601: FutureWarning: The default of `bootstrap` will change from `True` to `False` in version 0.13. This change will follow the implementation proposed in the original paper. Set to `False` to silence this warning and adopt the future behaviour.\n",
      "  warn(\n"
     ]
    },
    {
     "data": {
      "text/html": [
       "<style>#sk-container-id-6 {color: black;}#sk-container-id-6 pre{padding: 0;}#sk-container-id-6 div.sk-toggleable {background-color: white;}#sk-container-id-6 label.sk-toggleable__label {cursor: pointer;display: block;width: 100%;margin-bottom: 0;padding: 0.3em;box-sizing: border-box;text-align: center;}#sk-container-id-6 label.sk-toggleable__label-arrow:before {content: \"▸\";float: left;margin-right: 0.25em;color: #696969;}#sk-container-id-6 label.sk-toggleable__label-arrow:hover:before {color: black;}#sk-container-id-6 div.sk-estimator:hover label.sk-toggleable__label-arrow:before {color: black;}#sk-container-id-6 div.sk-toggleable__content {max-height: 0;max-width: 0;overflow: hidden;text-align: left;background-color: #f0f8ff;}#sk-container-id-6 div.sk-toggleable__content pre {margin: 0.2em;color: black;border-radius: 0.25em;background-color: #f0f8ff;}#sk-container-id-6 input.sk-toggleable__control:checked~div.sk-toggleable__content {max-height: 200px;max-width: 100%;overflow: auto;}#sk-container-id-6 input.sk-toggleable__control:checked~label.sk-toggleable__label-arrow:before {content: \"▾\";}#sk-container-id-6 div.sk-estimator input.sk-toggleable__control:checked~label.sk-toggleable__label {background-color: #d4ebff;}#sk-container-id-6 div.sk-label input.sk-toggleable__control:checked~label.sk-toggleable__label {background-color: #d4ebff;}#sk-container-id-6 input.sk-hidden--visually {border: 0;clip: rect(1px 1px 1px 1px);clip: rect(1px, 1px, 1px, 1px);height: 1px;margin: -1px;overflow: hidden;padding: 0;position: absolute;width: 1px;}#sk-container-id-6 div.sk-estimator {font-family: monospace;background-color: #f0f8ff;border: 1px dotted black;border-radius: 0.25em;box-sizing: border-box;margin-bottom: 0.5em;}#sk-container-id-6 div.sk-estimator:hover {background-color: #d4ebff;}#sk-container-id-6 div.sk-parallel-item::after {content: \"\";width: 100%;border-bottom: 1px solid gray;flex-grow: 1;}#sk-container-id-6 div.sk-label:hover label.sk-toggleable__label {background-color: #d4ebff;}#sk-container-id-6 div.sk-serial::before {content: \"\";position: absolute;border-left: 1px solid gray;box-sizing: border-box;top: 0;bottom: 0;left: 50%;z-index: 0;}#sk-container-id-6 div.sk-serial {display: flex;flex-direction: column;align-items: center;background-color: white;padding-right: 0.2em;padding-left: 0.2em;position: relative;}#sk-container-id-6 div.sk-item {position: relative;z-index: 1;}#sk-container-id-6 div.sk-parallel {display: flex;align-items: stretch;justify-content: center;background-color: white;position: relative;}#sk-container-id-6 div.sk-item::before, #sk-container-id-6 div.sk-parallel-item::before {content: \"\";position: absolute;border-left: 1px solid gray;box-sizing: border-box;top: 0;bottom: 0;left: 50%;z-index: -1;}#sk-container-id-6 div.sk-parallel-item {display: flex;flex-direction: column;z-index: 1;position: relative;background-color: white;}#sk-container-id-6 div.sk-parallel-item:first-child::after {align-self: flex-end;width: 50%;}#sk-container-id-6 div.sk-parallel-item:last-child::after {align-self: flex-start;width: 50%;}#sk-container-id-6 div.sk-parallel-item:only-child::after {width: 0;}#sk-container-id-6 div.sk-dashed-wrapped {border: 1px dashed gray;margin: 0 0.4em 0.5em 0.4em;box-sizing: border-box;padding-bottom: 0.4em;background-color: white;}#sk-container-id-6 div.sk-label label {font-family: monospace;font-weight: bold;display: inline-block;line-height: 1.2em;}#sk-container-id-6 div.sk-label-container {text-align: center;}#sk-container-id-6 div.sk-container {/* jupyter's `normalize.less` sets `[hidden] { display: none; }` but bootstrap.min.css set `[hidden] { display: none !important; }` so we also need the `!important` here to be able to override the default hidden behavior on the sphinx rendered scikit-learn.org. See: https://github.com/scikit-learn/scikit-learn/issues/21755 */display: inline-block !important;position: relative;}#sk-container-id-6 div.sk-text-repr-fallback {display: none;}</style><div id=\"sk-container-id-6\" class=\"sk-top-container\"><div class=\"sk-text-repr-fallback\"><pre>BalancedRandomForestClassifier(random_state=42)</pre><b>In a Jupyter environment, please rerun this cell to show the HTML representation or trust the notebook. <br />On GitHub, the HTML representation is unable to render, please try loading this page with nbviewer.org.</b></div><div class=\"sk-container\" hidden><div class=\"sk-item\"><div class=\"sk-estimator sk-toggleable\"><input class=\"sk-toggleable__control sk-hidden--visually\" id=\"sk-estimator-id-6\" type=\"checkbox\" checked><label for=\"sk-estimator-id-6\" class=\"sk-toggleable__label sk-toggleable__label-arrow\">BalancedRandomForestClassifier</label><div class=\"sk-toggleable__content\"><pre>BalancedRandomForestClassifier(random_state=42)</pre></div></div></div></div></div>"
      ],
      "text/plain": [
       "BalancedRandomForestClassifier(random_state=42)"
      ]
     },
     "execution_count": 84,
     "metadata": {},
     "output_type": "execute_result"
    }
   ],
   "source": [
    "\n",
    "\n",
    "# Initialize BalancedRandomForestClassifier\n",
    "model_brf = BalancedRandomForestClassifier(n_estimators=100, random_state=42)\n",
    "# Train the model\n",
    "model_brf.fit(X_train, y_train)"
   ]
  },
  {
   "cell_type": "code",
   "execution_count": 86,
   "metadata": {},
   "outputs": [
    {
     "name": "stdout",
     "output_type": "stream",
     "text": [
      "Validation Accuracy: 0.76\n"
     ]
    }
   ],
   "source": [
    "# Predictions on the validation set\n",
    "y_pred_val_brf = model_brf.predict(X_val)\n",
    "\n",
    "# Calculate accuracy on the validation set\n",
    "accuracy_val_brf = accuracy_score(y_val, y_pred_val_brf)\n",
    "print(f'Validation Accuracy: {accuracy_val_brf:.2f}')"
   ]
  },
  {
   "cell_type": "code",
   "execution_count": 87,
   "metadata": {},
   "outputs": [
    {
     "name": "stdout",
     "output_type": "stream",
     "text": [
      "Validation Set Classification Report:\n",
      "              precision    recall  f1-score   support\n",
      "\n",
      "           0       0.97      0.76      0.85     67037\n",
      "           1       0.28      0.77      0.41      7921\n",
      "\n",
      "    accuracy                           0.76     74958\n",
      "   macro avg       0.62      0.77      0.63     74958\n",
      "weighted avg       0.89      0.76      0.80     74958\n",
      "\n",
      "Validation Set Confusion Matrix:\n",
      "[[50947 16090]\n",
      " [ 1804  6117]]\n"
     ]
    }
   ],
   "source": [
    "# Classification report for validation set\n",
    "print(\"Validation Set Classification Report:\")\n",
    "print(classification_report(y_val, y_pred_val_brf))\n",
    "\n",
    "# Confusion matrix for validation set\n",
    "print(\"Validation Set Confusion Matrix:\")\n",
    "print(confusion_matrix(y_val, y_pred_val_brf))"
   ]
  },
  {
   "cell_type": "code",
   "execution_count": 88,
   "metadata": {},
   "outputs": [
    {
     "name": "stdout",
     "output_type": "stream",
     "text": [
      "ROC-AUC: 0.77\n"
     ]
    },
    {
     "data": {
      "image/png": "[encoded data removed]",
      "text/plain": [
       "<Figure size 432x288 with 1 Axes>"
      ]
     },
     "metadata": {
      "needs_background": "light"
     },
     "output_type": "display_data"
    }
   ],
   "source": [
    "roc_auc = roc_auc_score(y_val, y_pred_val_brf)\n",
    "fpr, tpr, thresholds = roc_curve(y_val, y_pred_val_brf)\n",
    "\n",
    "print(f'ROC-AUC: {roc_auc:.2f}')\n",
    "\n",
    "plt.plot(fpr, tpr, label='ROC curve (area = %0.2f)' % roc_auc)\n",
    "plt.plot([0, 1], [0, 1], 'k--')\n",
    "plt.xlabel('False Positive Rate')\n",
    "plt.ylabel('True Positive Rate')\n",
    "plt.title('Receiver Operating Characteristic')\n",
    "plt.legend(loc='lower right')\n",
    "plt.show()"
   ]
  },
  {
   "cell_type": "markdown",
   "metadata": {},
   "source": [
    "Ensemble technique also gave almost similar results like re-sampling techniques. Applying classification threshold to check if model's performance is improved."
   ]
  },
  {
   "cell_type": "markdown",
   "metadata": {},
   "source": [
    "# Classification Threshold"
   ]
  },
  {
   "cell_type": "code",
   "execution_count": 90,
   "metadata": {},
   "outputs": [],
   "source": [
    "y_pred_proba = model_brf.predict_proba(X_val)[:, 1]\n"
   ]
  },
  {
   "cell_type": "code",
   "execution_count": 93,
   "metadata": {},
   "outputs": [
    {
     "name": "stdout",
     "output_type": "stream",
     "text": [
      "Best Threshold: 0.72\n"
     ]
    }
   ],
   "source": [
    "precision, recall, thresholds = precision_recall_curve(y_val, y_pred_proba)\n",
    "\n",
    "# Find the threshold that gives the best balance between precision and recall\n",
    "f1_scores = 2 * (precision * recall) / (precision + recall)\n",
    "best_threshold = thresholds[np.argmax(f1_scores)]\n",
    "print(\"Best Threshold:\", best_threshold)"
   ]
  },
  {
   "cell_type": "code",
   "execution_count": 94,
   "metadata": {},
   "outputs": [
    {
     "name": "stdout",
     "output_type": "stream",
     "text": [
      "Validation Set Classification Report:\n",
      "              precision    recall  f1-score   support\n",
      "\n",
      "           0       0.94      0.91      0.93     67037\n",
      "           1       0.41      0.51      0.46      7921\n",
      "\n",
      "    accuracy                           0.87     74958\n",
      "   macro avg       0.68      0.71      0.69     74958\n",
      "weighted avg       0.88      0.87      0.88     74958\n",
      "\n",
      "Validation Set Confusion Matrix:\n",
      "[[61324  5713]\n",
      " [ 3889  4032]]\n",
      "ROC-AUC: 0.84\n"
     ]
    }
   ],
   "source": [
    "y_pred = (y_pred_proba >= best_threshold).astype(int)\n",
    "\n",
    "# Evaluate the final predictions\n",
    "\n",
    "print(\"Validation Set Classification Report:\")\n",
    "print(classification_report(y_val, y_pred))\n",
    "\n",
    "print(\"Validation Set Confusion Matrix:\")\n",
    "print(confusion_matrix(y_val, y_pred))\n",
    "\n",
    "roc_auc = roc_auc_score(y_val, y_pred_proba)\n",
    "print(f\"ROC-AUC: {roc_auc:.2f}\")\n"
   ]
  },
  {
   "cell_type": "markdown",
   "metadata": {},
   "source": [
    "From the above results, it's clear that adding the threshold classification improved the model's performance with a good ROC-AUC score of 0.84 and overall accuracy of 87%. Also,the classification report shows high performance for class 0 (majority class) and moderate performance for class 1 (minority class) with a significant increase in the precision of class 1. "
   ]
  },
  {
   "cell_type": "markdown",
   "metadata": {},
   "source": [
    "# Forecasting "
   ]
  },
  {
   "cell_type": "code",
   "execution_count": 127,
   "metadata": {},
   "outputs": [
    {
     "name": "stdout",
     "output_type": "stream",
     "text": [
      "2009-07-06\n"
     ]
    }
   ],
   "source": [
    "# Prepare data for forecasting\n",
    "specific_date = datetime.today() - timedelta(days=15*365)\n",
    "\n",
    "specific_date_str = specific_date.strftime('%Y-%m-%d')\n",
    "print(specific_date_str)"
   ]
  },
  {
   "cell_type": "code",
   "execution_count": 130,
   "metadata": {},
   "outputs": [],
   "source": [
    "#Predictions for selected features \n",
    "y_predicted = model_brf.predict(X)\n",
    "\n",
    "\n",
    "# Add predictions to the temporary final Dataset\n",
    "final_data_temp = pd.DataFrame(final_data)\n",
    "final_data_temp['predicted_snowfall'] = y_predicted\n"
   ]
  },
  {
   "cell_type": "code",
   "execution_count": 131,
   "metadata": {},
   "outputs": [],
   "source": [
    "# Filter rows where the date column matches the specific date\n",
    "snow_predicted_date = final_data_temp.loc[final_data_temp['date'] == specific_date_str]\n",
    "\n",
    "snow_predicted_date = snow_predicted_date[['station_number', 'date', 'predicted_snowfall']]\n",
    "snow_predicted_date.to_csv('snow_prediction_results.csv', index=False)"
   ]
  },
  {
   "cell_type": "code",
   "execution_count": 132,
   "metadata": {},
   "outputs": [
    {
     "data": {
      "text/html": [
       "<div>\n",
       "<style scoped>\n",
       "    .dataframe tbody tr th:only-of-type {\n",
       "        vertical-align: middle;\n",
       "    }\n",
       "\n",
       "    .dataframe tbody tr th {\n",
       "        vertical-align: top;\n",
       "    }\n",
       "\n",
       "    .dataframe thead th {\n",
       "        text-align: right;\n",
       "    }\n",
       "</style>\n",
       "<table border=\"1\" class=\"dataframe\">\n",
       "  <thead>\n",
       "    <tr style=\"text-align: right;\">\n",
       "      <th></th>\n",
       "      <th>station_number</th>\n",
       "      <th>date</th>\n",
       "      <th>predicted_snowfall</th>\n",
       "    </tr>\n",
       "  </thead>\n",
       "  <tbody>\n",
       "    <tr>\n",
       "      <th>1643</th>\n",
       "      <td>725300</td>\n",
       "      <td>2009-07-06</td>\n",
       "      <td>1</td>\n",
       "    </tr>\n",
       "    <tr>\n",
       "      <th>3467</th>\n",
       "      <td>725305</td>\n",
       "      <td>2009-07-06</td>\n",
       "      <td>1</td>\n",
       "    </tr>\n",
       "    <tr>\n",
       "      <th>5267</th>\n",
       "      <td>725314</td>\n",
       "      <td>2009-07-06</td>\n",
       "      <td>1</td>\n",
       "    </tr>\n",
       "    <tr>\n",
       "      <th>7091</th>\n",
       "      <td>725315</td>\n",
       "      <td>2009-07-06</td>\n",
       "      <td>1</td>\n",
       "    </tr>\n",
       "    <tr>\n",
       "      <th>8915</th>\n",
       "      <td>725316</td>\n",
       "      <td>2009-07-06</td>\n",
       "      <td>0</td>\n",
       "    </tr>\n",
       "    <tr>\n",
       "      <th>10737</th>\n",
       "      <td>725317</td>\n",
       "      <td>2009-07-06</td>\n",
       "      <td>0</td>\n",
       "    </tr>\n",
       "    <tr>\n",
       "      <th>12561</th>\n",
       "      <td>725320</td>\n",
       "      <td>2009-07-06</td>\n",
       "      <td>0</td>\n",
       "    </tr>\n",
       "    <tr>\n",
       "      <th>14364</th>\n",
       "      <td>725326</td>\n",
       "      <td>2009-07-06</td>\n",
       "      <td>1</td>\n",
       "    </tr>\n",
       "    <tr>\n",
       "      <th>16129</th>\n",
       "      <td>725327</td>\n",
       "      <td>2009-07-06</td>\n",
       "      <td>1</td>\n",
       "    </tr>\n",
       "    <tr>\n",
       "      <th>17950</th>\n",
       "      <td>725330</td>\n",
       "      <td>2009-07-06</td>\n",
       "      <td>1</td>\n",
       "    </tr>\n",
       "  </tbody>\n",
       "</table>\n",
       "</div>"
      ],
      "text/plain": [
       "       station_number       date  predicted_snowfall\n",
       "1643           725300 2009-07-06                   1\n",
       "3467           725305 2009-07-06                   1\n",
       "5267           725314 2009-07-06                   1\n",
       "7091           725315 2009-07-06                   1\n",
       "8915           725316 2009-07-06                   0\n",
       "10737          725317 2009-07-06                   0\n",
       "12561          725320 2009-07-06                   0\n",
       "14364          725326 2009-07-06                   1\n",
       "16129          725327 2009-07-06                   1\n",
       "17950          725330 2009-07-06                   1"
      ]
     },
     "execution_count": 132,
     "metadata": {},
     "output_type": "execute_result"
    }
   ],
   "source": [
    "snow_predicted_date.head(10)"
   ]
  },
  {
   "cell_type": "markdown",
   "metadata": {},
   "source": [
    "snow_prediction_results.csv - Uploaded to github which contains the results from the forecast"
   ]
  },
  {
   "cell_type": "markdown",
   "metadata": {},
   "source": [
    "Below codes are part of experimenting"
   ]
  },
  {
   "cell_type": "markdown",
   "metadata": {},
   "source": [
    "# Random Forest classifier with imbalanced data"
   ]
  },
  {
   "cell_type": "code",
   "execution_count": 75,
   "metadata": {},
   "outputs": [
    {
     "data": {
      "text/html": [
       "<style>#sk-container-id-4 {color: black;}#sk-container-id-4 pre{padding: 0;}#sk-container-id-4 div.sk-toggleable {background-color: white;}#sk-container-id-4 label.sk-toggleable__label {cursor: pointer;display: block;width: 100%;margin-bottom: 0;padding: 0.3em;box-sizing: border-box;text-align: center;}#sk-container-id-4 label.sk-toggleable__label-arrow:before {content: \"▸\";float: left;margin-right: 0.25em;color: #696969;}#sk-container-id-4 label.sk-toggleable__label-arrow:hover:before {color: black;}#sk-container-id-4 div.sk-estimator:hover label.sk-toggleable__label-arrow:before {color: black;}#sk-container-id-4 div.sk-toggleable__content {max-height: 0;max-width: 0;overflow: hidden;text-align: left;background-color: #f0f8ff;}#sk-container-id-4 div.sk-toggleable__content pre {margin: 0.2em;color: black;border-radius: 0.25em;background-color: #f0f8ff;}#sk-container-id-4 input.sk-toggleable__control:checked~div.sk-toggleable__content {max-height: 200px;max-width: 100%;overflow: auto;}#sk-container-id-4 input.sk-toggleable__control:checked~label.sk-toggleable__label-arrow:before {content: \"▾\";}#sk-container-id-4 div.sk-estimator input.sk-toggleable__control:checked~label.sk-toggleable__label {background-color: #d4ebff;}#sk-container-id-4 div.sk-label input.sk-toggleable__control:checked~label.sk-toggleable__label {background-color: #d4ebff;}#sk-container-id-4 input.sk-hidden--visually {border: 0;clip: rect(1px 1px 1px 1px);clip: rect(1px, 1px, 1px, 1px);height: 1px;margin: -1px;overflow: hidden;padding: 0;position: absolute;width: 1px;}#sk-container-id-4 div.sk-estimator {font-family: monospace;background-color: #f0f8ff;border: 1px dotted black;border-radius: 0.25em;box-sizing: border-box;margin-bottom: 0.5em;}#sk-container-id-4 div.sk-estimator:hover {background-color: #d4ebff;}#sk-container-id-4 div.sk-parallel-item::after {content: \"\";width: 100%;border-bottom: 1px solid gray;flex-grow: 1;}#sk-container-id-4 div.sk-label:hover label.sk-toggleable__label {background-color: #d4ebff;}#sk-container-id-4 div.sk-serial::before {content: \"\";position: absolute;border-left: 1px solid gray;box-sizing: border-box;top: 0;bottom: 0;left: 50%;z-index: 0;}#sk-container-id-4 div.sk-serial {display: flex;flex-direction: column;align-items: center;background-color: white;padding-right: 0.2em;padding-left: 0.2em;position: relative;}#sk-container-id-4 div.sk-item {position: relative;z-index: 1;}#sk-container-id-4 div.sk-parallel {display: flex;align-items: stretch;justify-content: center;background-color: white;position: relative;}#sk-container-id-4 div.sk-item::before, #sk-container-id-4 div.sk-parallel-item::before {content: \"\";position: absolute;border-left: 1px solid gray;box-sizing: border-box;top: 0;bottom: 0;left: 50%;z-index: -1;}#sk-container-id-4 div.sk-parallel-item {display: flex;flex-direction: column;z-index: 1;position: relative;background-color: white;}#sk-container-id-4 div.sk-parallel-item:first-child::after {align-self: flex-end;width: 50%;}#sk-container-id-4 div.sk-parallel-item:last-child::after {align-self: flex-start;width: 50%;}#sk-container-id-4 div.sk-parallel-item:only-child::after {width: 0;}#sk-container-id-4 div.sk-dashed-wrapped {border: 1px dashed gray;margin: 0 0.4em 0.5em 0.4em;box-sizing: border-box;padding-bottom: 0.4em;background-color: white;}#sk-container-id-4 div.sk-label label {font-family: monospace;font-weight: bold;display: inline-block;line-height: 1.2em;}#sk-container-id-4 div.sk-label-container {text-align: center;}#sk-container-id-4 div.sk-container {/* jupyter's `normalize.less` sets `[hidden] { display: none; }` but bootstrap.min.css set `[hidden] { display: none !important; }` so we also need the `!important` here to be able to override the default hidden behavior on the sphinx rendered scikit-learn.org. See: https://github.com/scikit-learn/scikit-learn/issues/21755 */display: inline-block !important;position: relative;}#sk-container-id-4 div.sk-text-repr-fallback {display: none;}</style><div id=\"sk-container-id-4\" class=\"sk-top-container\"><div class=\"sk-text-repr-fallback\"><pre>RandomForestClassifier(random_state=42)</pre><b>In a Jupyter environment, please rerun this cell to show the HTML representation or trust the notebook. <br />On GitHub, the HTML representation is unable to render, please try loading this page with nbviewer.org.</b></div><div class=\"sk-container\" hidden><div class=\"sk-item\"><div class=\"sk-estimator sk-toggleable\"><input class=\"sk-toggleable__control sk-hidden--visually\" id=\"sk-estimator-id-4\" type=\"checkbox\" checked><label for=\"sk-estimator-id-4\" class=\"sk-toggleable__label sk-toggleable__label-arrow\">RandomForestClassifier</label><div class=\"sk-toggleable__content\"><pre>RandomForestClassifier(random_state=42)</pre></div></div></div></div></div>"
      ],
      "text/plain": [
       "RandomForestClassifier(random_state=42)"
      ]
     },
     "execution_count": 75,
     "metadata": {},
     "output_type": "execute_result"
    }
   ],
   "source": [
    "# Initialize a Random Forest classifier \n",
    "model_rf = RandomForestClassifier(random_state=42)\n",
    "\n",
    "# Train the model \n",
    "model_rf.fit(X_train, y_train)"
   ]
  },
  {
   "cell_type": "code",
   "execution_count": 76,
   "metadata": {},
   "outputs": [
    {
     "name": "stdout",
     "output_type": "stream",
     "text": [
      "Validation Accuracy: 0.90\n"
     ]
    }
   ],
   "source": [
    "# Predictions on the validation set\n",
    "y_pred_val_rf = model_rf.predict(X_val)\n",
    "\n",
    "# Calculate accuracy on the validation set\n",
    "accuracy_val_rf = accuracy_score(y_val, y_pred_val_rf)\n",
    "print(f'Validation Accuracy: {accuracy_val_rf:.2f}')"
   ]
  },
  {
   "cell_type": "code",
   "execution_count": 77,
   "metadata": {},
   "outputs": [
    {
     "name": "stdout",
     "output_type": "stream",
     "text": [
      "Validation Set Classification Report:\n",
      "              precision    recall  f1-score   support\n",
      "\n",
      "           0       0.91      0.99      0.95     67037\n",
      "           1       0.66      0.19      0.30      7921\n",
      "\n",
      "    accuracy                           0.90     74958\n",
      "   macro avg       0.79      0.59      0.62     74958\n",
      "weighted avg       0.89      0.90      0.88     74958\n",
      "\n",
      "Validation Set Confusion Matrix:\n",
      "[[66260   777]\n",
      " [ 6389  1532]]\n"
     ]
    }
   ],
   "source": [
    "# Classification report for validation set\n",
    "print(\"Validation Set Classification Report:\")\n",
    "print(classification_report(y_val, y_pred_val_rf))\n",
    "\n",
    "# Confusion matrix for validation set\n",
    "print(\"Validation Set Confusion Matrix:\")\n",
    "print(confusion_matrix(y_val, y_pred_val_rf))"
   ]
  },
  {
   "cell_type": "code",
   "execution_count": 135,
   "metadata": {},
   "outputs": [
    {
     "name": "stdout",
     "output_type": "stream",
     "text": [
      "ROC-AUC: 0.59\n"
     ]
    }
   ],
   "source": [
    "roc_auc = roc_auc_score(y_val, y_pred_val_rf)\n",
    "fpr, tpr, thresholds = roc_curve(y_val, y_pred_val_rf)\n",
    "\n",
    "print(f'ROC-AUC: {roc_auc:.2f}')"
   ]
  }
 ],
 "metadata": {
  "kernelspec": {
   "display_name": "Python 3",
   "language": "python",
   "name": "python3"
  },
  "language_info": {
   "codemirror_mode": {
    "name": "ipython",
    "version": 3
   },
   "file_extension": ".py",
   "mimetype": "text/x-python",
   "name": "python",
   "nbconvert_exporter": "python",
   "pygments_lexer": "ipython3",
   "version": "3.8.3"
  }
 },
 "nbformat": 4,
 "nbformat_minor": 4
}
